{
  "nbformat": 4,
  "nbformat_minor": 0,
  "metadata": {
    "colab": {
      "name": "DownloadZipAndSaveToDrive",
      "provenance": [],
      "mount_file_id": "1Weg1Jq0lw3iPYdKdfzw9Wj-jKEHgklx5",
      "authorship_tag": "ABX9TyOYzaivHMlGgU6j7BagCbvN",
      "include_colab_link": true
    },
    "kernelspec": {
      "name": "python3",
      "display_name": "Python 3"
    }
  },
  "cells": [
    {
      "cell_type": "markdown",
      "metadata": {
        "id": "view-in-github",
        "colab_type": "text"
      },
      "source": [
        "<a href=\"https://colab.research.google.com/github/shyamjith94/PyTorch/blob/main/DownloadZipAndSaveToDrive.ipynb\" target=\"_parent\"><img src=\"https://colab.research.google.com/assets/colab-badge.svg\" alt=\"Open In Colab\"/></a>"
      ]
    },
    {
      "cell_type": "code",
      "metadata": {
        "colab": {
          "base_uri": "https://localhost:8080/"
        },
        "id": "9BhzlQRPH7-D",
        "outputId": "6777f631-e616-467c-d4f7-f8381396111d"
      },
      "source": [
        "!pip install googledrivedownloader\n"
      ],
      "execution_count": 6,
      "outputs": [
        {
          "output_type": "stream",
          "text": [
            "Requirement already satisfied: googledrivedownloader in /usr/local/lib/python3.6/dist-packages (0.4)\n"
          ],
          "name": "stdout"
        }
      ]
    },
    {
      "cell_type": "code",
      "metadata": {
        "colab": {
          "base_uri": "https://localhost:8080/"
        },
        "id": "exa9YCjHI4fy",
        "outputId": "f6547da7-917e-4dd3-854e-7eb79d227349"
      },
      "source": [
        "from google_drive_downloader import GoogleDriveDownloader as gdd\n",
        "gdd.download_file_from_google_drive(file_id='1fuFurVV8rcrVTAFPjhQvzGLNdnTi1jWZ',\n",
        "                                    dest_path='/content/drive/MyDrive/PyTorch/Data/RealImages.zip',\n",
        "                                    unzip=True)"
      ],
      "execution_count": 8,
      "outputs": [
        {
          "output_type": "stream",
          "text": [
            "Downloading 1fuFurVV8rcrVTAFPjhQvzGLNdnTi1jWZ into /content/drive/MyDrive/PyTorch/Data/RealImages.zip... Done.\n",
            "Unzipping...Done.\n"
          ],
          "name": "stdout"
        }
      ]
    },
    {
      "cell_type": "code",
      "metadata": {
        "id": "XIjMI_I6JMBx"
      },
      "source": [
        ""
      ],
      "execution_count": null,
      "outputs": []
    }
  ]
}