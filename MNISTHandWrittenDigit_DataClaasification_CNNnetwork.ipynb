{
  "nbformat": 4,
  "nbformat_minor": 0,
  "metadata": {
    "colab": {
      "name": "MNISTHandWrittenDigit-DataClaasification-CNNnetwork.ipynb",
      "provenance": [],
      "collapsed_sections": [],
      "authorship_tag": "ABX9TyPeGa85/n6ecQ22bSdVUhGW",
      "include_colab_link": true
    },
    "kernelspec": {
      "name": "python3",
      "display_name": "Python 3"
    }
  },
  "cells": [
    {
      "cell_type": "markdown",
      "metadata": {
        "id": "view-in-github",
        "colab_type": "text"
      },
      "source": [
        "<a href=\"https://colab.research.google.com/github/shyamjith94/PyTorch/blob/main/MNISTHandWrittenDigit_DataClaasification_CNNnetwork.ipynb\" target=\"_parent\"><img src=\"https://colab.research.google.com/assets/colab-badge.svg\" alt=\"Open In Colab\"/></a>"
      ]
    },
    {
      "cell_type": "code",
      "metadata": {
        "id": "WyVKUVcRqS0i"
      },
      "source": [
        "%%capture\n",
        "!pip install torch torchvision"
      ],
      "execution_count": 122,
      "outputs": []
    },
    {
      "cell_type": "markdown",
      "metadata": {
        "id": "aSy_jCWDtaP-"
      },
      "source": [
        "**Convolutional neural network**"
      ]
    },
    {
      "cell_type": "code",
      "metadata": {
        "id": "uoyLblUBqfrF"
      },
      "source": [
        "import pandas as pd\n",
        "import numpy as np\n",
        "import matplotlib.pyplot as plt\n",
        "\n",
        "import torch, torchvision\n",
        "import torch.nn as NN\n",
        "import torch.nn.functional as F\n",
        "\n",
        "from sklearn.metrics import confusion_matrix\n",
        "from torchvision.utils import make_grid"
      ],
      "execution_count": 164,
      "outputs": []
    },
    {
      "cell_type": "code",
      "metadata": {
        "id": "kS6yF0GhqiBC"
      },
      "source": [
        "from torch.utils.data import DataLoader\n",
        "from torchvision import datasets, transforms"
      ],
      "execution_count": 124,
      "outputs": []
    },
    {
      "cell_type": "code",
      "metadata": {
        "id": "-4tG2wonrxw0"
      },
      "source": [
        "transform = transforms.ToTensor()"
      ],
      "execution_count": 125,
      "outputs": []
    },
    {
      "cell_type": "code",
      "metadata": {
        "id": "4UQ40221r1lw"
      },
      "source": [
        "train_data = datasets.MNIST(root='/content/drive/MyDrive/PyTorch/Data/MNISTDownloadMe', train=True, download=True, transform=transform)"
      ],
      "execution_count": 126,
      "outputs": []
    },
    {
      "cell_type": "code",
      "metadata": {
        "id": "t8070Cgur-Ck"
      },
      "source": [
        "test_data = datasets.MNIST(root='/content/drive/MyDrive/PyTorch/Data/MNISTDownloadMe', train=False, download=True, transform=transform)"
      ],
      "execution_count": 127,
      "outputs": []
    },
    {
      "cell_type": "code",
      "metadata": {
        "colab": {
          "base_uri": "https://localhost:8080/"
        },
        "id": "LZLLXdEJsGe3",
        "outputId": "b8ea866f-3c89-44fe-f422-a32b4e4ccb23"
      },
      "source": [
        "train_data"
      ],
      "execution_count": 128,
      "outputs": [
        {
          "output_type": "execute_result",
          "data": {
            "text/plain": [
              "Dataset MNIST\n",
              "    Number of datapoints: 60000\n",
              "    Root location: /content/drive/MyDrive/PyTorch/Data/MNISTDownloadMe\n",
              "    Split: Train\n",
              "    StandardTransform\n",
              "Transform: ToTensor()"
            ]
          },
          "metadata": {
            "tags": []
          },
          "execution_count": 128
        }
      ]
    },
    {
      "cell_type": "code",
      "metadata": {
        "colab": {
          "base_uri": "https://localhost:8080/"
        },
        "id": "blamFI2SsJAN",
        "outputId": "901b4957-4a7c-4b5e-c282-aadaf27bb1ba"
      },
      "source": [
        "test_data"
      ],
      "execution_count": 129,
      "outputs": [
        {
          "output_type": "execute_result",
          "data": {
            "text/plain": [
              "Dataset MNIST\n",
              "    Number of datapoints: 10000\n",
              "    Root location: /content/drive/MyDrive/PyTorch/Data/MNISTDownloadMe\n",
              "    Split: Test\n",
              "    StandardTransform\n",
              "Transform: ToTensor()"
            ]
          },
          "metadata": {
            "tags": []
          },
          "execution_count": 129
        }
      ]
    },
    {
      "cell_type": "code",
      "metadata": {
        "id": "JcO09ictsKk4"
      },
      "source": [
        "train_loader = DataLoader(train_data, batch_size=10, shuffle=True)\n",
        "test_loader = DataLoader(test_data, batch_size=10, shuffle=False)"
      ],
      "execution_count": 130,
      "outputs": []
    },
    {
      "cell_type": "code",
      "metadata": {
        "id": "ktWX3xM1tW9L"
      },
      "source": [
        "# 1 - one input chanel\n",
        "# 6 - output chanel feature extraction(arbitory choice)\n",
        "# 3 - 3 by 3 filter (keranal)\n",
        "# 1 - stride(stepsize)\n",
        "connv1 = NN.Conv2d(1,6,3,1)\n",
        "# 6 came from first connv2d layer \n",
        "# 16 output chanel feature extraction(arbitory choice)\n",
        "# 3 - 3 by 3 filter (keranal)\n",
        "# 1 - stride(stepsize)\n",
        "connv2 = NN.Conv2d(6, 16, 3, 1)"
      ],
      "execution_count": 131,
      "outputs": []
    },
    {
      "cell_type": "code",
      "metadata": {
        "id": "aox0hdNkxT8f"
      },
      "source": [
        "# taking one image\n",
        "for i, (x_train, y_train) in enumerate(train_data):\n",
        "    break"
      ],
      "execution_count": 132,
      "outputs": []
    },
    {
      "cell_type": "code",
      "metadata": {
        "colab": {
          "base_uri": "https://localhost:8080/"
        },
        "id": "LjpXyfVOxhWW",
        "outputId": "997c8f05-2400-4013-cae9-e4970e018bb1"
      },
      "source": [
        "x_train.shape"
      ],
      "execution_count": 133,
      "outputs": [
        {
          "output_type": "execute_result",
          "data": {
            "text/plain": [
              "torch.Size([1, 28, 28])"
            ]
          },
          "metadata": {
            "tags": []
          },
          "execution_count": 133
        }
      ]
    },
    {
      "cell_type": "code",
      "metadata": {
        "colab": {
          "base_uri": "https://localhost:8080/"
        },
        "id": "swMax880xkJw",
        "outputId": "0deb81e2-fa8b-4cc7-85e4-134363a587ef"
      },
      "source": [
        "x_train.view(1,1,28,28).shape"
      ],
      "execution_count": 134,
      "outputs": [
        {
          "output_type": "execute_result",
          "data": {
            "text/plain": [
              "torch.Size([1, 1, 28, 28])"
            ]
          },
          "metadata": {
            "tags": []
          },
          "execution_count": 134
        }
      ]
    },
    {
      "cell_type": "code",
      "metadata": {
        "id": "Se6HiVKwx6g_"
      },
      "source": [
        "x = x_train.view(1,1,28,28)"
      ],
      "execution_count": 135,
      "outputs": []
    },
    {
      "cell_type": "markdown",
      "metadata": {
        "id": "2Y55LaPAzEwF"
      },
      "source": [
        "**pass to first layer**"
      ]
    },
    {
      "cell_type": "code",
      "metadata": {
        "id": "r-VE7H9QyMVs"
      },
      "source": [
        "x = F.relu(connv1(x))"
      ],
      "execution_count": 136,
      "outputs": []
    },
    {
      "cell_type": "code",
      "metadata": {
        "colab": {
          "base_uri": "https://localhost:8080/"
        },
        "id": "sCVb96O6yY4f",
        "outputId": "0be91815-fd5f-4a29-ca47-2e2f74456279"
      },
      "source": [
        "x.shape\n",
        "# 26 loosing borders original is 28,  add padding fix issue"
      ],
      "execution_count": 137,
      "outputs": [
        {
          "output_type": "execute_result",
          "data": {
            "text/plain": [
              "torch.Size([1, 6, 26, 26])"
            ]
          },
          "metadata": {
            "tags": []
          },
          "execution_count": 137
        }
      ]
    },
    {
      "cell_type": "markdown",
      "metadata": {
        "id": "gxy07qM5zI3e"
      },
      "source": [
        "**add max pool layer**"
      ]
    },
    {
      "cell_type": "code",
      "metadata": {
        "id": "GKr20uMeyao8"
      },
      "source": [
        "# 2 kernal\n",
        "# 2 kernal\n",
        "x = F.max_pool2d(x, 2, 2)"
      ],
      "execution_count": 138,
      "outputs": []
    },
    {
      "cell_type": "code",
      "metadata": {
        "colab": {
          "base_uri": "https://localhost:8080/"
        },
        "id": "09xbg5-mzUFn",
        "outputId": "12fcb5d2-c777-45eb-d0fc-923a13a6f611"
      },
      "source": [
        "x.shape\n",
        "# 13 half of 26\n",
        "# 13 half of 26"
      ],
      "execution_count": 139,
      "outputs": [
        {
          "output_type": "execute_result",
          "data": {
            "text/plain": [
              "torch.Size([1, 6, 13, 13])"
            ]
          },
          "metadata": {
            "tags": []
          },
          "execution_count": 139
        }
      ]
    },
    {
      "cell_type": "markdown",
      "metadata": {
        "id": "1NwD1bEHznaE"
      },
      "source": [
        "**pass to secound layer**"
      ]
    },
    {
      "cell_type": "code",
      "metadata": {
        "id": "Avop5h0azW4b"
      },
      "source": [
        "x = F.relu(connv2(x))"
      ],
      "execution_count": 140,
      "outputs": []
    },
    {
      "cell_type": "code",
      "metadata": {
        "colab": {
          "base_uri": "https://localhost:8080/"
        },
        "id": "77iaWrRuzk2V",
        "outputId": "c6f1da2a-4ad5-48ac-a834-2df5c6a7e0a0"
      },
      "source": [
        "# 11 loosing border pixel  from 13 pixel\n",
        "# 11 loosing border pixel  from 13 pixel\n",
        "x.shape"
      ],
      "execution_count": 141,
      "outputs": [
        {
          "output_type": "execute_result",
          "data": {
            "text/plain": [
              "torch.Size([1, 16, 11, 11])"
            ]
          },
          "metadata": {
            "tags": []
          },
          "execution_count": 141
        }
      ]
    },
    {
      "cell_type": "code",
      "metadata": {
        "id": "ZFv1JFYMzrys"
      },
      "source": [
        "# 2 kernal\n",
        "# 2 kernal\n",
        "x = F.max_pool2d(x, 2,2)"
      ],
      "execution_count": 142,
      "outputs": []
    },
    {
      "cell_type": "code",
      "metadata": {
        "colab": {
          "base_uri": "https://localhost:8080/"
        },
        "id": "rJp_EfIl0NYj",
        "outputId": "2e73be82-b988-4324-d619-a039478a6d56"
      },
      "source": [
        "x.shape\n",
        "# 5 half of 11 rounding\n",
        "# 5 half of 11 rounding"
      ],
      "execution_count": 143,
      "outputs": [
        {
          "output_type": "execute_result",
          "data": {
            "text/plain": [
              "torch.Size([1, 16, 5, 5])"
            ]
          },
          "metadata": {
            "tags": []
          },
          "execution_count": 143
        }
      ]
    },
    {
      "cell_type": "code",
      "metadata": {
        "colab": {
          "base_uri": "https://localhost:8080/"
        },
        "id": "DFiEwFQ-0PJ6",
        "outputId": "fd6e2603-5760-454f-86f9-1a1735c49233"
      },
      "source": [
        "# final shape\n",
        "x.view(-1, 16*5*5).shape"
      ],
      "execution_count": 144,
      "outputs": [
        {
          "output_type": "execute_result",
          "data": {
            "text/plain": [
              "torch.Size([1, 400])"
            ]
          },
          "metadata": {
            "tags": []
          },
          "execution_count": 144
        }
      ]
    },
    {
      "cell_type": "markdown",
      "metadata": {
        "id": "9WG8WQKj2MGc"
      },
      "source": [
        "**Creating network Model**"
      ]
    },
    {
      "cell_type": "code",
      "metadata": {
        "id": "WlP1A04l1_tg"
      },
      "source": [
        "class ConvolutionalNetwork(NN.Module):\n",
        "    def __init__(self):\n",
        "        super().__init__()\n",
        "        self.conv1 = NN.Conv2d(1, 6, 3, 1)\n",
        "        self.conv2 = NN.Conv2d(6, 16, 3, 1)\n",
        "        self.fc1 = NN.Linear(5*5*16, 120)\n",
        "        self.fc2 = NN.Linear(120, 84)\n",
        "        self.fc3 = NN.Linear(84,10)\n",
        "\n",
        "    def forward(self, X):\n",
        "        X = F.relu(self.conv1(X))\n",
        "        X = F.max_pool2d(X, 2, 2)\n",
        "        \n",
        "        X = F.relu(self.conv2(X))\n",
        "        X = F.max_pool2d(X, 2, 2)\n",
        "        \n",
        "        X = X.view(-1, 5*5*16)\n",
        "        X = F.relu(self.fc1(X))\n",
        "        X = F.relu(self.fc2(X))\n",
        "        X = self.fc3(X)\n",
        "        \n",
        "        return F.log_softmax(X, dim=1)"
      ],
      "execution_count": 145,
      "outputs": []
    },
    {
      "cell_type": "code",
      "metadata": {
        "colab": {
          "base_uri": "https://localhost:8080/"
        },
        "id": "thUk2o-h4Reb",
        "outputId": "3a6fe121-4b79-40bd-dd3f-1ce206236234"
      },
      "source": [
        "torch.manual_seed(42)\n",
        "model = ConvolutionalNetwork()\n",
        "model"
      ],
      "execution_count": 146,
      "outputs": [
        {
          "output_type": "execute_result",
          "data": {
            "text/plain": [
              "ConvolutionalNetwork(\n",
              "  (conv1): Conv2d(1, 6, kernel_size=(3, 3), stride=(1, 1))\n",
              "  (conv2): Conv2d(6, 16, kernel_size=(3, 3), stride=(1, 1))\n",
              "  (fc1): Linear(in_features=400, out_features=120, bias=True)\n",
              "  (fc2): Linear(in_features=120, out_features=84, bias=True)\n",
              "  (fc3): Linear(in_features=84, out_features=10, bias=True)\n",
              ")"
            ]
          },
          "metadata": {
            "tags": []
          },
          "execution_count": 146
        }
      ]
    },
    {
      "cell_type": "code",
      "metadata": {
        "colab": {
          "base_uri": "https://localhost:8080/"
        },
        "id": "BYPOUB0u4ehq",
        "outputId": "fd20a4d6-c320-4178-9901-226676d46a48"
      },
      "source": [
        "for param in model.parameters():\n",
        "    print(param.numel())"
      ],
      "execution_count": 147,
      "outputs": [
        {
          "output_type": "stream",
          "text": [
            "54\n",
            "6\n",
            "864\n",
            "16\n",
            "48000\n",
            "120\n",
            "10080\n",
            "84\n",
            "840\n",
            "10\n"
          ],
          "name": "stdout"
        }
      ]
    },
    {
      "cell_type": "code",
      "metadata": {
        "id": "amAMBmBL5ViB"
      },
      "source": [
        "criterion = NN.CrossEntropyLoss()\n",
        "optimizer = torch.optim.Adam(model.parameters(), lr=0.001)"
      ],
      "execution_count": 148,
      "outputs": []
    },
    {
      "cell_type": "code",
      "metadata": {
        "colab": {
          "base_uri": "https://localhost:8080/"
        },
        "id": "gMO2aTj35kS7",
        "outputId": "26039c9e-4940-4f54-fe69-b93575752b66"
      },
      "source": [
        "import time\n",
        "start_time = time.time()\n",
        "\n",
        "epochs = 5\n",
        "train_losses = []\n",
        "test_losses = []\n",
        "train_correct = []\n",
        "test_correct = []\n",
        "\n",
        "for i in range(epochs):\n",
        "    trn_corr = 0\n",
        "    tst_corr = 0\n",
        "    \n",
        "    # Run the training batches\n",
        "    for b, (X_train, y_train) in enumerate(train_loader):\n",
        "        b+=1\n",
        "        \n",
        "        # Apply the model\n",
        "        y_pred = model(X_train)  # we don't flatten X-train here\n",
        "        loss = criterion(y_pred, y_train)\n",
        " \n",
        "        # Tally the number of correct predictions\n",
        "        predicted = torch.max(y_pred.data, 1)[1]\n",
        "        batch_corr = (predicted == y_train).sum()\n",
        "        trn_corr += batch_corr\n",
        "        \n",
        "        # Update parameters\n",
        "        optimizer.zero_grad()\n",
        "        loss.backward()\n",
        "        optimizer.step()\n",
        "        \n",
        "        # Print interim results\n",
        "        if b%600 == 0:\n",
        "            print(f'epoch: {i:2}  batch: {b:4} [{10*b:6}/60000]  loss: {loss.item():10.8f}  \\\n",
        "accuracy: {trn_corr.item()*100/(10*b):7.3f}%')\n",
        "        \n",
        "    train_losses.append(loss)\n",
        "    train_correct.append(trn_corr)\n",
        "        \n",
        "    # Run the testing batches\n",
        "    with torch.no_grad():\n",
        "        for b, (X_test, y_test) in enumerate(test_loader):\n",
        "\n",
        "            # Apply the model\n",
        "            y_val = model(X_test)\n",
        "\n",
        "            # Tally the number of correct predictions\n",
        "            predicted = torch.max(y_val.data, 1)[1] \n",
        "            tst_corr += (predicted == y_test).sum()\n",
        "            \n",
        "    loss = criterion(y_val, y_test)\n",
        "    test_losses.append(loss)\n",
        "    test_correct.append(tst_corr)\n",
        "        \n",
        "print(f'\\nDuration: {time.time() - start_time:.0f} seconds') # print the time elapsed            "
      ],
      "execution_count": 149,
      "outputs": [
        {
          "output_type": "stream",
          "text": [
            "epoch:  0  batch:  600 [  6000/60000]  loss: 0.48150820  accuracy:  78.400%\n",
            "epoch:  0  batch: 1200 [ 12000/60000]  loss: 0.11086808  accuracy:  85.333%\n",
            "epoch:  0  batch: 1800 [ 18000/60000]  loss: 0.01967988  accuracy:  88.511%\n",
            "epoch:  0  batch: 2400 [ 24000/60000]  loss: 0.09354196  accuracy:  90.254%\n",
            "epoch:  0  batch: 3000 [ 30000/60000]  loss: 0.00180938  accuracy:  91.420%\n",
            "epoch:  0  batch: 3600 [ 36000/60000]  loss: 0.04877997  accuracy:  92.322%\n",
            "epoch:  0  batch: 4200 [ 42000/60000]  loss: 0.10025699  accuracy:  92.950%\n",
            "epoch:  0  batch: 4800 [ 48000/60000]  loss: 0.00242361  accuracy:  93.423%\n",
            "epoch:  0  batch: 5400 [ 54000/60000]  loss: 0.00265223  accuracy:  93.854%\n",
            "epoch:  0  batch: 6000 [ 60000/60000]  loss: 0.08694701  accuracy:  94.222%\n",
            "epoch:  1  batch:  600 [  6000/60000]  loss: 0.03828767  accuracy:  97.800%\n",
            "epoch:  1  batch: 1200 [ 12000/60000]  loss: 0.00194439  accuracy:  97.842%\n",
            "epoch:  1  batch: 1800 [ 18000/60000]  loss: 0.04087923  accuracy:  97.911%\n",
            "epoch:  1  batch: 2400 [ 24000/60000]  loss: 0.02211982  accuracy:  97.892%\n",
            "epoch:  1  batch: 3000 [ 30000/60000]  loss: 0.00010320  accuracy:  97.870%\n",
            "epoch:  1  batch: 3600 [ 36000/60000]  loss: 0.14244260  accuracy:  97.828%\n",
            "epoch:  1  batch: 4200 [ 42000/60000]  loss: 0.00950156  accuracy:  97.881%\n",
            "epoch:  1  batch: 4800 [ 48000/60000]  loss: 0.30926323  accuracy:  97.881%\n",
            "epoch:  1  batch: 5400 [ 54000/60000]  loss: 0.02060457  accuracy:  97.909%\n",
            "epoch:  1  batch: 6000 [ 60000/60000]  loss: 0.18892199  accuracy:  97.945%\n",
            "epoch:  2  batch:  600 [  6000/60000]  loss: 0.00481533  accuracy:  98.283%\n",
            "epoch:  2  batch: 1200 [ 12000/60000]  loss: 0.00601341  accuracy:  98.400%\n",
            "epoch:  2  batch: 1800 [ 18000/60000]  loss: 0.00941348  accuracy:  98.544%\n",
            "epoch:  2  batch: 2400 [ 24000/60000]  loss: 0.06626497  accuracy:  98.596%\n",
            "epoch:  2  batch: 3000 [ 30000/60000]  loss: 0.00029943  accuracy:  98.530%\n",
            "epoch:  2  batch: 3600 [ 36000/60000]  loss: 0.01178232  accuracy:  98.547%\n",
            "epoch:  2  batch: 4200 [ 42000/60000]  loss: 0.00306192  accuracy:  98.531%\n",
            "epoch:  2  batch: 4800 [ 48000/60000]  loss: 0.00071149  accuracy:  98.546%\n",
            "epoch:  2  batch: 5400 [ 54000/60000]  loss: 0.08616347  accuracy:  98.543%\n",
            "epoch:  2  batch: 6000 [ 60000/60000]  loss: 0.00019113  accuracy:  98.565%\n",
            "epoch:  3  batch:  600 [  6000/60000]  loss: 0.00311904  accuracy:  98.850%\n",
            "epoch:  3  batch: 1200 [ 12000/60000]  loss: 0.02115145  accuracy:  98.825%\n",
            "epoch:  3  batch: 1800 [ 18000/60000]  loss: 0.00014975  accuracy:  98.794%\n",
            "epoch:  3  batch: 2400 [ 24000/60000]  loss: 0.00732289  accuracy:  98.750%\n",
            "epoch:  3  batch: 3000 [ 30000/60000]  loss: 0.00046893  accuracy:  98.793%\n",
            "epoch:  3  batch: 3600 [ 36000/60000]  loss: 0.13851646  accuracy:  98.797%\n",
            "epoch:  3  batch: 4200 [ 42000/60000]  loss: 0.00138017  accuracy:  98.769%\n",
            "epoch:  3  batch: 4800 [ 48000/60000]  loss: 0.03046667  accuracy:  98.750%\n",
            "epoch:  3  batch: 5400 [ 54000/60000]  loss: 0.00255014  accuracy:  98.778%\n",
            "epoch:  3  batch: 6000 [ 60000/60000]  loss: 0.00422542  accuracy:  98.753%\n",
            "epoch:  4  batch:  600 [  6000/60000]  loss: 0.00090868  accuracy:  99.283%\n",
            "epoch:  4  batch: 1200 [ 12000/60000]  loss: 0.22705857  accuracy:  99.158%\n",
            "epoch:  4  batch: 1800 [ 18000/60000]  loss: 0.00001966  accuracy:  99.133%\n",
            "epoch:  4  batch: 2400 [ 24000/60000]  loss: 0.00004456  accuracy:  99.096%\n",
            "epoch:  4  batch: 3000 [ 30000/60000]  loss: 0.25469968  accuracy:  99.040%\n",
            "epoch:  4  batch: 3600 [ 36000/60000]  loss: 0.00272831  accuracy:  99.028%\n",
            "epoch:  4  batch: 4200 [ 42000/60000]  loss: 0.00032209  accuracy:  99.031%\n",
            "epoch:  4  batch: 4800 [ 48000/60000]  loss: 0.04772147  accuracy:  99.052%\n",
            "epoch:  4  batch: 5400 [ 54000/60000]  loss: 0.00028453  accuracy:  99.026%\n",
            "epoch:  4  batch: 6000 [ 60000/60000]  loss: 0.00029847  accuracy:  99.013%\n",
            "\n",
            "Duration: 184 seconds\n"
          ],
          "name": "stdout"
        }
      ]
    },
    {
      "cell_type": "code",
      "metadata": {
        "id": "6kdjLy0_7kio",
        "colab": {
          "base_uri": "https://localhost:8080/",
          "height": 609
        },
        "outputId": "5f962827-ddf2-4ef1-b56f-79abe4aa1a05"
      },
      "source": [
        "plt.figure(figsize=(16,10))\n",
        "plt.plot(train_losses, label=\"TRAIN LOSS\")\n",
        "plt.plot(test_losses, label=\"TEST LOSS\")\n",
        "plt.legend()"
      ],
      "execution_count": 153,
      "outputs": [
        {
          "output_type": "execute_result",
          "data": {
            "text/plain": [
              "<matplotlib.legend.Legend at 0x7f629b049f98>"
            ]
          },
          "metadata": {
            "tags": []
          },
          "execution_count": 153
        },
        {
          "output_type": "display_data",
          "data": {
            "image/png": "[encoded data removed]",
            "text/plain": [
              "<Figure size 1152x720 with 1 Axes>"
            ]
          },
          "metadata": {
            "tags": [],
            "needs_background": "light"
          }
        }
      ]
    },
    {
      "cell_type": "code",
      "metadata": {
        "id": "RIdylbHwDqvU",
        "colab": {
          "base_uri": "https://localhost:8080/",
          "height": 607
        },
        "outputId": "febeb6db-f272-4da2-aecc-868cb2488187"
      },
      "source": [
        "# 600 100 are batch\n",
        "plt.figure(figsize=(16,10))\n",
        "plt.plot([t/600 for t in train_correct], label='training accuracy')\n",
        "plt.plot([t/100 for t in test_correct], label='validation accuracy')\n",
        "plt.title('Accuracy at the end of each epoch')\n",
        "plt.legend();"
      ],
      "execution_count": 154,
      "outputs": [
        {
          "output_type": "display_data",
          "data": {
            "image/png": "[encoded data removed]",
            "text/plain": [
              "<Figure size 1152x720 with 1 Axes>"
            ]
          },
          "metadata": {
            "tags": [],
            "needs_background": "light"
          }
        }
      ]
    },
    {
      "cell_type": "code",
      "metadata": {
        "id": "YMiGlQljqT0a"
      },
      "source": [
        "# Extract the data all at once, not in batches\n",
        "test_load_all = DataLoader(test_data, batch_size=10000, shuffle=False)"
      ],
      "execution_count": 155,
      "outputs": []
    },
    {
      "cell_type": "code",
      "metadata": {
        "colab": {
          "base_uri": "https://localhost:8080/"
        },
        "id": "cKrz2MWTqWyv",
        "outputId": "20c87614-3550-47f4-e805-f0952926467c"
      },
      "source": [
        "with torch.no_grad():\n",
        "    correct = 0\n",
        "    for X_test, y_test in test_load_all:\n",
        "        y_val = model(X_test)  # we don't flatten the data this time\n",
        "        predicted = torch.max(y_val,1)[1]\n",
        "        correct += (predicted == y_test).sum()\n",
        "print(f'Test accuracy: {correct.item()}/{len(test_data)} = {correct.item()*100/(len(test_data)):7.3f}%')"
      ],
      "execution_count": 156,
      "outputs": [
        {
          "output_type": "stream",
          "text": [
            "Test accuracy: 9869/10000 =  98.690%\n"
          ],
          "name": "stdout"
        }
      ]
    },
    {
      "cell_type": "markdown",
      "metadata": {
        "id": "1EYTjUM4qf1M"
      },
      "source": [
        "**confusion matrix**"
      ]
    },
    {
      "cell_type": "code",
      "metadata": {
        "colab": {
          "base_uri": "https://localhost:8080/"
        },
        "id": "lLRHFsFdqYj6",
        "outputId": "89e2637b-70f5-434f-e6f2-c4ad02662fc4"
      },
      "source": [
        "# print a row of values for reference\n",
        "np.set_printoptions(formatter=dict(int=lambda x: f'{x:4}'))\n",
        "print(np.arange(10).reshape(1,10))\n",
        "print()\n",
        "\n",
        "# print the confusion matrix\n",
        "print(confusion_matrix(predicted.view(-1), y_test.view(-1)))"
      ],
      "execution_count": 157,
      "outputs": [
        {
          "output_type": "stream",
          "text": [
            "[[   0    1    2    3    4    5    6    7    8    9]]\n",
            "\n",
            "[[ 973    0    5    0    1    2    3    0    4    0]\n",
            " [   0 1131    0    0    0    0    1    4    1    0]\n",
            " [   1    1 1018    1    0    0    0    6    1    0]\n",
            " [   0    0    0  998    0    6    0    1    1    0]\n",
            " [   0    0    1    0  973    0    2    1    1   17]\n",
            " [   0    1    0    3    0  879    1    0    0    3]\n",
            " [   4    2    1    0    4    2  950    0    0    0]\n",
            " [   2    0    5    1    0    1    0 1010    0    4]\n",
            " [   0    0    2    6    3    1    1    2  964   12]\n",
            " [   0    0    0    1    1    1    0    4    2  973]]\n"
          ],
          "name": "stdout"
        }
      ]
    },
    {
      "cell_type": "markdown",
      "metadata": {
        "id": "zKhlECBqqlPQ"
      },
      "source": [
        "**The misses**"
      ]
    },
    {
      "cell_type": "code",
      "metadata": {
        "colab": {
          "base_uri": "https://localhost:8080/"
        },
        "id": "39WqKfcSqcN9",
        "outputId": "9932f4a4-776c-40ec-ad03-4bbaf89a065e"
      },
      "source": [
        "misses = np.array([])\n",
        "for i in range(len(predicted.view(-1))):\n",
        "    if predicted[i] != y_test[i]:\n",
        "        misses = np.append(misses,i).astype('int64')\n",
        "        \n",
        "# Display the number of misses\n",
        "len(misses)"
      ],
      "execution_count": 158,
      "outputs": [
        {
          "output_type": "execute_result",
          "data": {
            "text/plain": [
              "131"
            ]
          },
          "metadata": {
            "tags": []
          },
          "execution_count": 158
        }
      ]
    },
    {
      "cell_type": "code",
      "metadata": {
        "colab": {
          "base_uri": "https://localhost:8080/"
        },
        "id": "WZ92ffecqo1R",
        "outputId": "9db8cb17-2ac4-41b9-e3d3-62e5e4c418b2"
      },
      "source": [
        "# Display the first 10 index positions\n",
        "misses"
      ],
      "execution_count": 160,
      "outputs": [
        {
          "output_type": "execute_result",
          "data": {
            "text/plain": [
              "array([  18,   62,  247,  264,  320,  359,  445,  448,  495,  583,  646,\n",
              "        659,  684,  720,  813,  938,  939,  947,  966, 1014, 1021, 1033,\n",
              "       1039, 1112, 1114, 1156, 1178, 1192, 1226, 1232, 1247, 1260, 1299,\n",
              "       1364, 1393, 1414, 1500, 1520, 1522, 1527, 1549, 1569, 1621, 1681,\n",
              "       1709, 1721, 1871, 1878, 1901, 1903, 2018, 2035, 2043, 2070, 2098,\n",
              "       2130, 2186, 2189, 2195, 2293, 2406, 2426, 2462, 2488, 2597, 2654,\n",
              "       2720, 2742, 2770, 2810, 2863, 2896, 2910, 2921, 2953, 3005, 3225,\n",
              "       3316, 3369, 3422, 3520, 3534, 3558, 3601, 3662, 3762, 3808, 3850,\n",
              "       3859, 3869, 3941, 4027, 4224, 4256, 4571, 4639, 4740, 4761, 4807,\n",
              "       4823, 4874, 4956, 5937, 5955, 5973, 5997, 6532, 6571, 6576, 6597,\n",
              "       6651, 6783, 7216, 7434, 7637, 7736, 7964, 8094, 8160, 8246, 8325,\n",
              "       8382, 9497, 9530, 9642, 9664, 9701, 9729, 9770, 9839, 9982])"
            ]
          },
          "metadata": {
            "tags": []
          },
          "execution_count": 160
        }
      ]
    },
    {
      "cell_type": "code",
      "metadata": {
        "id": "5t8Z8Kx6qrR0"
      },
      "source": [
        "# Set up an iterator to feed batched rows\n",
        "r = 12   # row size\n",
        "row = iter(np.array_split(misses,len(misses)//r+1))"
      ],
      "execution_count": 161,
      "outputs": []
    },
    {
      "cell_type": "code",
      "metadata": {
        "colab": {
          "base_uri": "https://localhost:8080/",
          "height": 152
        },
        "id": "4wdGiDPNquvz",
        "outputId": "ffa881eb-7272-4b67-f273-ba33bc632641"
      },
      "source": [
        "nextrow = next(row)\n",
        "print(\"Index:\", nextrow)\n",
        "print(\"Label:\", y_test.index_select(0,torch.tensor(nextrow)).numpy())\n",
        "print(\"Guess:\", predicted.index_select(0,torch.tensor(nextrow)).numpy())\n",
        "\n",
        "images = X_test.index_select(0,torch.tensor(nextrow))\n",
        "im = make_grid(images, nrow=r)\n",
        "plt.figure(figsize=(10,4))\n",
        "plt.imshow(np.transpose(im.numpy(), (1, 2, 0)));"
      ],
      "execution_count": 165,
      "outputs": [
        {
          "output_type": "stream",
          "text": [
            "Index: [ 684  720  813  938  939  947  966 1014 1021 1033 1039 1112]\n",
            "Label: [   7    5    9    3    2    8    9    6    7    8    7    4]\n",
            "Guess: [   2    8    8    5    0    9    8    5    2    1    3    6]\n"
          ],
          "name": "stdout"
        },
        {
          "output_type": "display_data",
          "data": {
            "image/png": "[encoded data removed]",
            "text/plain": [
              "<Figure size 720x288 with 1 Axes>"
            ]
          },
          "metadata": {
            "tags": [],
            "needs_background": "light"
          }
        }
      ]
    },
    {
      "cell_type": "markdown",
      "metadata": {
        "id": "f7DGyvnyrJlS"
      },
      "source": [
        "**Run a new image through the model**"
      ]
    },
    {
      "cell_type": "code",
      "metadata": {
        "colab": {
          "base_uri": "https://localhost:8080/",
          "height": 105
        },
        "id": "ZH978WiBq157",
        "outputId": "45b174ef-f11e-41bf-d850-0e21893112e1"
      },
      "source": [
        "x = 2019\n",
        "plt.figure(figsize=(1,1))\n",
        "plt.imshow(test_data[x][0].reshape((28,28)), cmap=\"gist_yarg\");"
      ],
      "execution_count": 166,
      "outputs": [
        {
          "output_type": "display_data",
          "data": {
            "image/png": "[encoded data removed]",
            "text/plain": [
              "<Figure size 72x72 with 1 Axes>"
            ]
          },
          "metadata": {
            "tags": [],
            "needs_background": "light"
          }
        }
      ]
    },
    {
      "cell_type": "code",
      "metadata": {
        "colab": {
          "base_uri": "https://localhost:8080/"
        },
        "id": "msUrwuAUrM2A",
        "outputId": "87a3d600-5d4b-48d4-cdcb-4aae826d87f1"
      },
      "source": [
        "model.eval()\n",
        "with torch.no_grad():\n",
        "    new_pred = model(test_data[x][0].view(1,1,28,28)).argmax()\n",
        "print(\"Predicted value:\",new_pred.item())"
      ],
      "execution_count": 167,
      "outputs": [
        {
          "output_type": "stream",
          "text": [
            "Predicted value: 9\n"
          ],
          "name": "stdout"
        }
      ]
    },
    {
      "cell_type": "code",
      "metadata": {
        "id": "cd12u4nVrOz3"
      },
      "source": [
        ""
      ],
      "execution_count": null,
      "outputs": []
    }
  ]
}