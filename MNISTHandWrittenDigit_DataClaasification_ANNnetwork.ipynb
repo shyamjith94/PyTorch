{
  "nbformat": 4,
  "nbformat_minor": 0,
  "metadata": {
    "colab": {
      "name": "MNISTHandWrittenDigit-DataClaasification-ANNnetwork.ipynb",
      "provenance": [],
      "collapsed_sections": [],
      "mount_file_id": "1N_lAuWo8uOB-gkR6dk1_9o9hQNhLGPyW",
      "authorship_tag": "ABX9TyPwQ65aos3yJ+e0cvLnJbNL",
      "include_colab_link": true
    },
    "kernelspec": {
      "name": "python3",
      "display_name": "Python 3"
    }
  },
  "cells": [
    {
      "cell_type": "markdown",
      "metadata": {
        "id": "view-in-github",
        "colab_type": "text"
      },
      "source": [
        "<a href=\"https://colab.research.google.com/github/shyamjith94/PyTorch/blob/main/MNISTHandWrittenDigit_DataClaasification_ANNnetwork.ipynb\" target=\"_parent\"><img src=\"https://colab.research.google.com/assets/colab-badge.svg\" alt=\"Open In Colab\"/></a>"
      ]
    },
    {
      "cell_type": "code",
      "metadata": {
        "id": "xtfDCxOfJhiX"
      },
      "source": [
        "%%capture\n",
        "!pip install torch torchvision"
      ],
      "execution_count": 346,
      "outputs": []
    },
    {
      "cell_type": "markdown",
      "metadata": {
        "id": "vi3q8HZIKxJX"
      },
      "source": [
        "**Using Artificial neural network**"
      ]
    },
    {
      "cell_type": "code",
      "metadata": {
        "id": "hvfN1dskJr-3"
      },
      "source": [
        "\n",
        "import pandas as pd\n",
        "import numpy as np\n",
        "import matplotlib.pyplot as plt\n",
        "\n",
        "import torch, torchvision\n",
        "import torch.nn as NN\n",
        "import torch.nn.functional as F\n",
        "\n",
        "from sklearn.metrics import confusion_matrix"
      ],
      "execution_count": 347,
      "outputs": []
    },
    {
      "cell_type": "code",
      "metadata": {
        "id": "zrhmgpyrKutn"
      },
      "source": [
        "from torch.utils.data import DataLoader\n",
        "from torchvision import datasets, transforms"
      ],
      "execution_count": 348,
      "outputs": []
    },
    {
      "cell_type": "code",
      "metadata": {
        "id": "wktHbRDTLGr_"
      },
      "source": [
        "# load in mnist data\n",
        "transform = transforms.ToTensor()"
      ],
      "execution_count": 349,
      "outputs": []
    },
    {
      "cell_type": "code",
      "metadata": {
        "id": "X-pnZFSCLt7C"
      },
      "source": [
        "train_data = datasets.MNIST(root='/content/drive/MyDrive/PyTorch/Data/MNISTDownloadMe', train=True, download=True, transform=transform)"
      ],
      "execution_count": 350,
      "outputs": []
    },
    {
      "cell_type": "code",
      "metadata": {
        "id": "eL_q8_P7Nyhf"
      },
      "source": [
        "test_data = datasets.MNIST(root='/content/drive/MyDrive/PyTorch/Data/MNISTDownloadMe', train=False, download=True, transform=transform)"
      ],
      "execution_count": 351,
      "outputs": []
    },
    {
      "cell_type": "code",
      "metadata": {
        "colab": {
          "base_uri": "https://localhost:8080/"
        },
        "id": "sIhAAnLDOQw-",
        "outputId": "8826482d-f95c-42b8-bf26-b89a31734c73"
      },
      "source": [
        "train_data"
      ],
      "execution_count": 352,
      "outputs": [
        {
          "output_type": "execute_result",
          "data": {
            "text/plain": [
              "Dataset MNIST\n",
              "    Number of datapoints: 60000\n",
              "    Root location: /content/drive/MyDrive/PyTorch/Data/MNISTDownloadMe\n",
              "    Split: Train\n",
              "    StandardTransform\n",
              "Transform: ToTensor()"
            ]
          },
          "metadata": {
            "tags": []
          },
          "execution_count": 352
        }
      ]
    },
    {
      "cell_type": "code",
      "metadata": {
        "colab": {
          "base_uri": "https://localhost:8080/"
        },
        "id": "3WkScmCHOSeT",
        "outputId": "a5ed5a8a-7521-4157-f408-50b32e23112d"
      },
      "source": [
        "test_data"
      ],
      "execution_count": 353,
      "outputs": [
        {
          "output_type": "execute_result",
          "data": {
            "text/plain": [
              "Dataset MNIST\n",
              "    Number of datapoints: 10000\n",
              "    Root location: /content/drive/MyDrive/PyTorch/Data/MNISTDownloadMe\n",
              "    Split: Test\n",
              "    StandardTransform\n",
              "Transform: ToTensor()"
            ]
          },
          "metadata": {
            "tags": []
          },
          "execution_count": 353
        }
      ]
    },
    {
      "cell_type": "code",
      "metadata": {
        "colab": {
          "base_uri": "https://localhost:8080/"
        },
        "id": "dXJIKA2qOTT7",
        "outputId": "9c14926f-6512-4fbb-ee17-debbceea7517"
      },
      "source": [
        "print(type(train_data))\n",
        "print(type(test_data))"
      ],
      "execution_count": 354,
      "outputs": [
        {
          "output_type": "stream",
          "text": [
            "torchvision.datasets.mnist.MNIST\n",
            "torchvision.datasets.mnist.MNIST\n"
          ],
          "name": "stdout"
        }
      ]
    },
    {
      "cell_type": "code",
      "metadata": {
        "colab": {
          "base_uri": "https://localhost:8080/"
        },
        "id": "NkelArCjO7VU",
        "outputId": "844ffd75-e02d-422b-e584-3b2c13594d44"
      },
      "source": [
        "train_data[0]"
      ],
      "execution_count": 355,
      "outputs": [
        {
          "output_type": "execute_result",
          "data": {
            "text/plain": [
              "(tensor([[[0.0000, 0.0000, 0.0000, 0.0000, 0.0000, 0.0000, 0.0000, 0.0000,\n",
              "           0.0000, 0.0000, 0.0000, 0.0000, 0.0000, 0.0000, 0.0000, 0.0000,\n",
              "           0.0000, 0.0000, 0.0000, 0.0000, 0.0000, 0.0000, 0.0000, 0.0000,\n",
              "           0.0000, 0.0000, 0.0000, 0.0000],\n",
              "          [0.0000, 0.0000, 0.0000, 0.0000, 0.0000, 0.0000, 0.0000, 0.0000,\n",
              "           0.0000, 0.0000, 0.0000, 0.0000, 0.0000, 0.0000, 0.0000, 0.0000,\n",
              "           0.0000, 0.0000, 0.0000, 0.0000, 0.0000, 0.0000, 0.0000, 0.0000,\n",
              "           0.0000, 0.0000, 0.0000, 0.0000],\n",
              "          [0.0000, 0.0000, 0.0000, 0.0000, 0.0000, 0.0000, 0.0000, 0.0000,\n",
              "           0.0000, 0.0000, 0.0000, 0.0000, 0.0000, 0.0000, 0.0000, 0.0000,\n",
              "           0.0000, 0.0000, 0.0000, 0.0000, 0.0000, 0.0000, 0.0000, 0.0000,\n",
              "           0.0000, 0.0000, 0.0000, 0.0000],\n",
              "          [0.0000, 0.0000, 0.0000, 0.0000, 0.0000, 0.0000, 0.0000, 0.0000,\n",
              "           0.0000, 0.0000, 0.0000, 0.0000, 0.0000, 0.0000, 0.0000, 0.0000,\n",
              "           0.0000, 0.0000, 0.0000, 0.0000, 0.0000, 0.0000, 0.0000, 0.0000,\n",
              "           0.0000, 0.0000, 0.0000, 0.0000],\n",
              "          [0.0000, 0.0000, 0.0000, 0.0000, 0.0000, 0.0000, 0.0000, 0.0000,\n",
              "           0.0000, 0.0000, 0.0000, 0.0000, 0.0000, 0.0000, 0.0000, 0.0000,\n",
              "           0.0000, 0.0000, 0.0000, 0.0000, 0.0000, 0.0000, 0.0000, 0.0000,\n",
              "           0.0000, 0.0000, 0.0000, 0.0000],\n",
              "          [0.0000, 0.0000, 0.0000, 0.0000, 0.0000, 0.0000, 0.0000, 0.0000,\n",
              "           0.0000, 0.0000, 0.0000, 0.0000, 0.0118, 0.0706, 0.0706, 0.0706,\n",
              "           0.4941, 0.5333, 0.6863, 0.1020, 0.6510, 1.0000, 0.9686, 0.4980,\n",
              "           0.0000, 0.0000, 0.0000, 0.0000],\n",
              "          [0.0000, 0.0000, 0.0000, 0.0000, 0.0000, 0.0000, 0.0000, 0.0000,\n",
              "           0.1176, 0.1412, 0.3686, 0.6039, 0.6667, 0.9922, 0.9922, 0.9922,\n",
              "           0.9922, 0.9922, 0.8824, 0.6745, 0.9922, 0.9490, 0.7647, 0.2510,\n",
              "           0.0000, 0.0000, 0.0000, 0.0000],\n",
              "          [0.0000, 0.0000, 0.0000, 0.0000, 0.0000, 0.0000, 0.0000, 0.1922,\n",
              "           0.9333, 0.9922, 0.9922, 0.9922, 0.9922, 0.9922, 0.9922, 0.9922,\n",
              "           0.9922, 0.9843, 0.3647, 0.3216, 0.3216, 0.2196, 0.1529, 0.0000,\n",
              "           0.0000, 0.0000, 0.0000, 0.0000],\n",
              "          [0.0000, 0.0000, 0.0000, 0.0000, 0.0000, 0.0000, 0.0000, 0.0706,\n",
              "           0.8588, 0.9922, 0.9922, 0.9922, 0.9922, 0.9922, 0.7765, 0.7137,\n",
              "           0.9686, 0.9451, 0.0000, 0.0000, 0.0000, 0.0000, 0.0000, 0.0000,\n",
              "           0.0000, 0.0000, 0.0000, 0.0000],\n",
              "          [0.0000, 0.0000, 0.0000, 0.0000, 0.0000, 0.0000, 0.0000, 0.0000,\n",
              "           0.3137, 0.6118, 0.4196, 0.9922, 0.9922, 0.8039, 0.0431, 0.0000,\n",
              "           0.1686, 0.6039, 0.0000, 0.0000, 0.0000, 0.0000, 0.0000, 0.0000,\n",
              "           0.0000, 0.0000, 0.0000, 0.0000],\n",
              "          [0.0000, 0.0000, 0.0000, 0.0000, 0.0000, 0.0000, 0.0000, 0.0000,\n",
              "           0.0000, 0.0549, 0.0039, 0.6039, 0.9922, 0.3529, 0.0000, 0.0000,\n",
              "           0.0000, 0.0000, 0.0000, 0.0000, 0.0000, 0.0000, 0.0000, 0.0000,\n",
              "           0.0000, 0.0000, 0.0000, 0.0000],\n",
              "          [0.0000, 0.0000, 0.0000, 0.0000, 0.0000, 0.0000, 0.0000, 0.0000,\n",
              "           0.0000, 0.0000, 0.0000, 0.5451, 0.9922, 0.7451, 0.0078, 0.0000,\n",
              "           0.0000, 0.0000, 0.0000, 0.0000, 0.0000, 0.0000, 0.0000, 0.0000,\n",
              "           0.0000, 0.0000, 0.0000, 0.0000],\n",
              "          [0.0000, 0.0000, 0.0000, 0.0000, 0.0000, 0.0000, 0.0000, 0.0000,\n",
              "           0.0000, 0.0000, 0.0000, 0.0431, 0.7451, 0.9922, 0.2745, 0.0000,\n",
              "           0.0000, 0.0000, 0.0000, 0.0000, 0.0000, 0.0000, 0.0000, 0.0000,\n",
              "           0.0000, 0.0000, 0.0000, 0.0000],\n",
              "          [0.0000, 0.0000, 0.0000, 0.0000, 0.0000, 0.0000, 0.0000, 0.0000,\n",
              "           0.0000, 0.0000, 0.0000, 0.0000, 0.1373, 0.9451, 0.8824, 0.6275,\n",
              "           0.4235, 0.0039, 0.0000, 0.0000, 0.0000, 0.0000, 0.0000, 0.0000,\n",
              "           0.0000, 0.0000, 0.0000, 0.0000],\n",
              "          [0.0000, 0.0000, 0.0000, 0.0000, 0.0000, 0.0000, 0.0000, 0.0000,\n",
              "           0.0000, 0.0000, 0.0000, 0.0000, 0.0000, 0.3176, 0.9412, 0.9922,\n",
              "           0.9922, 0.4667, 0.0980, 0.0000, 0.0000, 0.0000, 0.0000, 0.0000,\n",
              "           0.0000, 0.0000, 0.0000, 0.0000],\n",
              "          [0.0000, 0.0000, 0.0000, 0.0000, 0.0000, 0.0000, 0.0000, 0.0000,\n",
              "           0.0000, 0.0000, 0.0000, 0.0000, 0.0000, 0.0000, 0.1765, 0.7294,\n",
              "           0.9922, 0.9922, 0.5882, 0.1059, 0.0000, 0.0000, 0.0000, 0.0000,\n",
              "           0.0000, 0.0000, 0.0000, 0.0000],\n",
              "          [0.0000, 0.0000, 0.0000, 0.0000, 0.0000, 0.0000, 0.0000, 0.0000,\n",
              "           0.0000, 0.0000, 0.0000, 0.0000, 0.0000, 0.0000, 0.0000, 0.0627,\n",
              "           0.3647, 0.9882, 0.9922, 0.7333, 0.0000, 0.0000, 0.0000, 0.0000,\n",
              "           0.0000, 0.0000, 0.0000, 0.0000],\n",
              "          [0.0000, 0.0000, 0.0000, 0.0000, 0.0000, 0.0000, 0.0000, 0.0000,\n",
              "           0.0000, 0.0000, 0.0000, 0.0000, 0.0000, 0.0000, 0.0000, 0.0000,\n",
              "           0.0000, 0.9765, 0.9922, 0.9765, 0.2510, 0.0000, 0.0000, 0.0000,\n",
              "           0.0000, 0.0000, 0.0000, 0.0000],\n",
              "          [0.0000, 0.0000, 0.0000, 0.0000, 0.0000, 0.0000, 0.0000, 0.0000,\n",
              "           0.0000, 0.0000, 0.0000, 0.0000, 0.0000, 0.0000, 0.1804, 0.5098,\n",
              "           0.7176, 0.9922, 0.9922, 0.8118, 0.0078, 0.0000, 0.0000, 0.0000,\n",
              "           0.0000, 0.0000, 0.0000, 0.0000],\n",
              "          [0.0000, 0.0000, 0.0000, 0.0000, 0.0000, 0.0000, 0.0000, 0.0000,\n",
              "           0.0000, 0.0000, 0.0000, 0.0000, 0.1529, 0.5804, 0.8980, 0.9922,\n",
              "           0.9922, 0.9922, 0.9804, 0.7137, 0.0000, 0.0000, 0.0000, 0.0000,\n",
              "           0.0000, 0.0000, 0.0000, 0.0000],\n",
              "          [0.0000, 0.0000, 0.0000, 0.0000, 0.0000, 0.0000, 0.0000, 0.0000,\n",
              "           0.0000, 0.0000, 0.0941, 0.4471, 0.8667, 0.9922, 0.9922, 0.9922,\n",
              "           0.9922, 0.7882, 0.3059, 0.0000, 0.0000, 0.0000, 0.0000, 0.0000,\n",
              "           0.0000, 0.0000, 0.0000, 0.0000],\n",
              "          [0.0000, 0.0000, 0.0000, 0.0000, 0.0000, 0.0000, 0.0000, 0.0000,\n",
              "           0.0902, 0.2588, 0.8353, 0.9922, 0.9922, 0.9922, 0.9922, 0.7765,\n",
              "           0.3176, 0.0078, 0.0000, 0.0000, 0.0000, 0.0000, 0.0000, 0.0000,\n",
              "           0.0000, 0.0000, 0.0000, 0.0000],\n",
              "          [0.0000, 0.0000, 0.0000, 0.0000, 0.0000, 0.0000, 0.0706, 0.6706,\n",
              "           0.8588, 0.9922, 0.9922, 0.9922, 0.9922, 0.7647, 0.3137, 0.0353,\n",
              "           0.0000, 0.0000, 0.0000, 0.0000, 0.0000, 0.0000, 0.0000, 0.0000,\n",
              "           0.0000, 0.0000, 0.0000, 0.0000],\n",
              "          [0.0000, 0.0000, 0.0000, 0.0000, 0.2157, 0.6745, 0.8863, 0.9922,\n",
              "           0.9922, 0.9922, 0.9922, 0.9569, 0.5216, 0.0431, 0.0000, 0.0000,\n",
              "           0.0000, 0.0000, 0.0000, 0.0000, 0.0000, 0.0000, 0.0000, 0.0000,\n",
              "           0.0000, 0.0000, 0.0000, 0.0000],\n",
              "          [0.0000, 0.0000, 0.0000, 0.0000, 0.5333, 0.9922, 0.9922, 0.9922,\n",
              "           0.8314, 0.5294, 0.5176, 0.0627, 0.0000, 0.0000, 0.0000, 0.0000,\n",
              "           0.0000, 0.0000, 0.0000, 0.0000, 0.0000, 0.0000, 0.0000, 0.0000,\n",
              "           0.0000, 0.0000, 0.0000, 0.0000],\n",
              "          [0.0000, 0.0000, 0.0000, 0.0000, 0.0000, 0.0000, 0.0000, 0.0000,\n",
              "           0.0000, 0.0000, 0.0000, 0.0000, 0.0000, 0.0000, 0.0000, 0.0000,\n",
              "           0.0000, 0.0000, 0.0000, 0.0000, 0.0000, 0.0000, 0.0000, 0.0000,\n",
              "           0.0000, 0.0000, 0.0000, 0.0000],\n",
              "          [0.0000, 0.0000, 0.0000, 0.0000, 0.0000, 0.0000, 0.0000, 0.0000,\n",
              "           0.0000, 0.0000, 0.0000, 0.0000, 0.0000, 0.0000, 0.0000, 0.0000,\n",
              "           0.0000, 0.0000, 0.0000, 0.0000, 0.0000, 0.0000, 0.0000, 0.0000,\n",
              "           0.0000, 0.0000, 0.0000, 0.0000],\n",
              "          [0.0000, 0.0000, 0.0000, 0.0000, 0.0000, 0.0000, 0.0000, 0.0000,\n",
              "           0.0000, 0.0000, 0.0000, 0.0000, 0.0000, 0.0000, 0.0000, 0.0000,\n",
              "           0.0000, 0.0000, 0.0000, 0.0000, 0.0000, 0.0000, 0.0000, 0.0000,\n",
              "           0.0000, 0.0000, 0.0000, 0.0000]]]), 5)"
            ]
          },
          "metadata": {
            "tags": []
          },
          "execution_count": 355
        }
      ]
    },
    {
      "cell_type": "code",
      "metadata": {
        "id": "IyvtctaNOe3_"
      },
      "source": [
        "image, label = train_data[0]"
      ],
      "execution_count": 356,
      "outputs": []
    },
    {
      "cell_type": "code",
      "metadata": {
        "colab": {
          "base_uri": "https://localhost:8080/"
        },
        "id": "TsbFyLHAOhUU",
        "outputId": "1cd1e2a7-e7f7-4e73-a67c-cdb794fac97b"
      },
      "source": [
        "image.shape\n",
        "# 1 is for color grayscale or black and white"
      ],
      "execution_count": 357,
      "outputs": [
        {
          "output_type": "execute_result",
          "data": {
            "text/plain": [
              "torch.Size([1, 28, 28])"
            ]
          },
          "metadata": {
            "tags": []
          },
          "execution_count": 357
        }
      ]
    },
    {
      "cell_type": "code",
      "metadata": {
        "colab": {
          "base_uri": "https://localhost:8080/"
        },
        "id": "o2LXoeUtO1EI",
        "outputId": "704308b4-be9c-455f-cfe7-8f0f72ed64a1"
      },
      "source": [
        "label"
      ],
      "execution_count": 358,
      "outputs": [
        {
          "output_type": "execute_result",
          "data": {
            "text/plain": [
              "5"
            ]
          },
          "metadata": {
            "tags": []
          },
          "execution_count": 358
        }
      ]
    },
    {
      "cell_type": "code",
      "metadata": {
        "colab": {
          "base_uri": "https://localhost:8080/",
          "height": 282
        },
        "id": "J6POgR41O2d_",
        "outputId": "a5d4acfb-024a-4d12-9ad9-538e6fd3e321"
      },
      "source": [
        "# need to reshape image 28/28\n",
        "plt.imshow(image.reshape((28,28)))"
      ],
      "execution_count": 359,
      "outputs": [
        {
          "output_type": "execute_result",
          "data": {
            "text/plain": [
              "<matplotlib.image.AxesImage at 0x7f51252eaa58>"
            ]
          },
          "metadata": {
            "tags": []
          },
          "execution_count": 359
        },
        {
          "output_type": "display_data",
          "data": {
            "image/png": "[encoded data removed]",
            "text/plain": [
              "<Figure size 432x288 with 1 Axes>"
            ]
          },
          "metadata": {
            "tags": [],
            "needs_background": "light"
          }
        }
      ]
    },
    {
      "cell_type": "code",
      "metadata": {
        "colab": {
          "base_uri": "https://localhost:8080/",
          "height": 282
        },
        "id": "syg56_ZPPnh4",
        "outputId": "4abe2e90-d146-4ffb-bf4c-2091298eda7a"
      },
      "source": [
        "plt.imshow(image.reshape((28,28)), cmap='gray')"
      ],
      "execution_count": 360,
      "outputs": [
        {
          "output_type": "execute_result",
          "data": {
            "text/plain": [
              "<matplotlib.image.AxesImage at 0x7f512538cb38>"
            ]
          },
          "metadata": {
            "tags": []
          },
          "execution_count": 360
        },
        {
          "output_type": "display_data",
          "data": {
            "image/png": "[encoded data removed]",
            "text/plain": [
              "<Figure size 432x288 with 1 Axes>"
            ]
          },
          "metadata": {
            "tags": [],
            "needs_background": "light"
          }
        }
      ]
    },
    {
      "cell_type": "code",
      "metadata": {
        "colab": {
          "base_uri": "https://localhost:8080/",
          "height": 282
        },
        "id": "Z9h3pDwXSuoO",
        "outputId": "1a6f2270-30e4-4b82-ba86-d1bbc9af71f7"
      },
      "source": [
        "plt.imshow(image.reshape((28,28)), cmap='gist_yarg')"
      ],
      "execution_count": 361,
      "outputs": [
        {
          "output_type": "execute_result",
          "data": {
            "text/plain": [
              "<matplotlib.image.AxesImage at 0x7f5125368ba8>"
            ]
          },
          "metadata": {
            "tags": []
          },
          "execution_count": 361
        },
        {
          "output_type": "display_data",
          "data": {
            "image/png": "[encoded data removed]",
            "text/plain": [
              "<Figure size 432x288 with 1 Axes>"
            ]
          },
          "metadata": {
            "tags": [],
            "needs_background": "light"
          }
        }
      ]
    },
    {
      "cell_type": "code",
      "metadata": {
        "id": "CRax3GNlSytT"
      },
      "source": [
        "torch.manual_seed(101)\n",
        "# Each time trin 100 image at one batch\n",
        "train_loader = DataLoader(train_data, batch_size=100, shuffle=True)\n",
        "test_loader = DataLoader(test_data, batch_size=500, shuffle=False)"
      ],
      "execution_count": 362,
      "outputs": []
    },
    {
      "cell_type": "code",
      "metadata": {
        "id": "n25SdEOhThE4"
      },
      "source": [
        "from torchvision.utils import make_grid\n",
        "np.set_printoptions(formatter=dict(int=lambda x: f'{x:4}'))"
      ],
      "execution_count": 363,
      "outputs": []
    },
    {
      "cell_type": "code",
      "metadata": {
        "id": "sdUlCN78VPrp"
      },
      "source": [
        "#  selecting first batch \n",
        "for image, label in train_loader:\n",
        "    break # we get first 100 mage break the loop\n"
      ],
      "execution_count": 364,
      "outputs": []
    },
    {
      "cell_type": "code",
      "metadata": {
        "colab": {
          "base_uri": "https://localhost:8080/"
        },
        "id": "7yggzWN8VeGb",
        "outputId": "62d17b7d-1f0e-4370-a07e-27814a55c8b9"
      },
      "source": [
        "image.shape\n",
        "# 100 images 1 color chanel shape 28/28"
      ],
      "execution_count": 365,
      "outputs": [
        {
          "output_type": "execute_result",
          "data": {
            "text/plain": [
              "torch.Size([100, 1, 28, 28])"
            ]
          },
          "metadata": {
            "tags": []
          },
          "execution_count": 365
        }
      ]
    },
    {
      "cell_type": "code",
      "metadata": {
        "colab": {
          "base_uri": "https://localhost:8080/"
        },
        "id": "_Hnygi-rVgfJ",
        "outputId": "fd2ae75d-ebcf-4f0d-fdb2-40433fab8a47"
      },
      "source": [
        "label.shape"
      ],
      "execution_count": 366,
      "outputs": [
        {
          "output_type": "execute_result",
          "data": {
            "text/plain": [
              "torch.Size([100])"
            ]
          },
          "metadata": {
            "tags": []
          },
          "execution_count": 366
        }
      ]
    },
    {
      "cell_type": "code",
      "metadata": {
        "colab": {
          "base_uri": "https://localhost:8080/",
          "height": 145
        },
        "id": "gfVtXrykVuH3",
        "outputId": "8d24bf7a-ec04-4caa-89f2-9f200fa88434"
      },
      "source": [
        "#  print first 12 labels\n",
        "print('Labels: ', label[:12].numpy())\n",
        "# print first 12 images\n",
        "im = make_grid(image[:12], nrow=12)\n",
        "plt.figure(figsize=(12, 10))\n",
        "# we need to trnpose the image from CWH(color, width, height) to WHC(width height color)\n",
        "plt.imshow(np.transpose(im.numpy(), (1, 2, 0)))"
      ],
      "execution_count": 367,
      "outputs": [
        {
          "output_type": "stream",
          "text": [
            "Labels:  [   4    6    2    3    4    0    9    5    0    1    6    9]\n"
          ],
          "name": "stdout"
        },
        {
          "output_type": "execute_result",
          "data": {
            "text/plain": [
              "<matplotlib.image.AxesImage at 0x7f512528f4a8>"
            ]
          },
          "metadata": {
            "tags": []
          },
          "execution_count": 367
        },
        {
          "output_type": "display_data",
          "data": {
            "image/png": "[encoded data removed]",
            "text/plain": [
              "<Figure size 864x720 with 1 Axes>"
            ]
          },
          "metadata": {
            "tags": [],
            "needs_background": "light"
          }
        }
      ]
    },
    {
      "cell_type": "markdown",
      "metadata": {
        "id": "AZpA8HYqdg9M"
      },
      "source": [
        "**CreatingModel**"
      ]
    },
    {
      "cell_type": "code",
      "metadata": {
        "id": "thKwcpQ_fEqY"
      },
      "source": [
        "class multilayerPercepton(NN.Module):\n",
        "    \"\"\"\n",
        "    multi layer clssification problem\n",
        "    \"\"\"\n",
        "    def __init__(self, in_sz=784, out_sz=10, layers=[120, 84]):\n",
        "        # in_sz  -  784 (28*28)\n",
        "        # out_zs - 10 (0 to 10)\n",
        "        super().__init__()\n",
        "\n",
        "        self.fully_con_one = NN.Linear(in_sz, layers[0])\n",
        "        self.fully_con_two = NN.Linear(layers[0], layers[1])\n",
        "        self.fully_con_thr = NN.Linear(layers[1], out_sz)\n",
        "    \n",
        "    def forward(self, x):\n",
        "        x = F.relu(self.fully_con_one(x))\n",
        "        x = F.relu(self.fully_con_two(x))\n",
        "        x = self.fully_con_thr(x)\n",
        "        return F.log_softmax(x, dim=1) # multi class classification\n",
        "\n"
      ],
      "execution_count": 368,
      "outputs": []
    },
    {
      "cell_type": "code",
      "metadata": {
        "colab": {
          "base_uri": "https://localhost:8080/"
        },
        "id": "A2lcWvUyhk5D",
        "outputId": "181e729e-85e8-4f41-a28c-8baf4d21f20a"
      },
      "source": [
        "torch.manual_seed(101)\n",
        "model = multilayerPercepton()\n",
        "model"
      ],
      "execution_count": 369,
      "outputs": [
        {
          "output_type": "execute_result",
          "data": {
            "text/plain": [
              "multilayerPercepton(\n",
              "  (fully_con_one): Linear(in_features=784, out_features=120, bias=True)\n",
              "  (fully_con_two): Linear(in_features=120, out_features=84, bias=True)\n",
              "  (fully_con_thr): Linear(in_features=84, out_features=10, bias=True)\n",
              ")"
            ]
          },
          "metadata": {
            "tags": []
          },
          "execution_count": 369
        }
      ]
    },
    {
      "cell_type": "code",
      "metadata": {
        "colab": {
          "base_uri": "https://localhost:8080/"
        },
        "id": "CTKXuZWJh5Gm",
        "outputId": "9cfdfb61-a415-430c-ad34-65240d7378c8"
      },
      "source": [
        "# training connection to net summary\n",
        "for param in model.parameters():\n",
        "    print(param.numel())"
      ],
      "execution_count": 370,
      "outputs": [
        {
          "output_type": "stream",
          "text": [
            "94080\n",
            "120\n",
            "10080\n",
            "84\n",
            "840\n",
            "10\n"
          ],
          "name": "stdout"
        }
      ]
    },
    {
      "cell_type": "code",
      "metadata": {
        "id": "c1U6RnYqiYO4"
      },
      "source": [
        "criterion = NN.CrossEntropyLoss()\n",
        "optimizer = torch.optim.Adam(model.parameters(), lr=0.001)"
      ],
      "execution_count": 371,
      "outputs": []
    },
    {
      "cell_type": "code",
      "metadata": {
        "colab": {
          "base_uri": "https://localhost:8080/"
        },
        "id": "t8n-ofWwi_da",
        "outputId": "2b639687-cedd-43b9-f09c-bfd45e2ecdce"
      },
      "source": [
        "image.shape"
      ],
      "execution_count": 372,
      "outputs": [
        {
          "output_type": "execute_result",
          "data": {
            "text/plain": [
              "torch.Size([100, 1, 28, 28])"
            ]
          },
          "metadata": {
            "tags": []
          },
          "execution_count": 372
        }
      ]
    },
    {
      "cell_type": "code",
      "metadata": {
        "colab": {
          "base_uri": "https://localhost:8080/"
        },
        "id": "cXM_Mc4wjIe-",
        "outputId": "eaabb398-00fd-406d-fee3-dec9dc877782"
      },
      "source": [
        "# change shape to [100, 784]\n",
        "image.view(100, -1).shape # -1 means grab ( 1, 28, 28) together"
      ],
      "execution_count": 373,
      "outputs": [
        {
          "output_type": "execute_result",
          "data": {
            "text/plain": [
              "torch.Size([100, 784])"
            ]
          },
          "metadata": {
            "tags": []
          },
          "execution_count": 373
        }
      ]
    },
    {
      "cell_type": "markdown",
      "metadata": {
        "id": "qaxXXpvKjelv"
      },
      "source": [
        "**Train Model**"
      ]
    },
    {
      "cell_type": "code",
      "metadata": {
        "colab": {
          "base_uri": "https://localhost:8080/"
        },
        "id": "C9l_Eehljv7i",
        "outputId": "27dbccdd-f3c5-4e3c-cc14-98aff95f7e27"
      },
      "source": [
        "import time\n",
        "\n",
        "start_time = time.time()\n",
        "\n",
        "# Training\n",
        "epochs = 10\n",
        "train_loss = []\n",
        "test_loss = []\n",
        "\n",
        "train_correct = []\n",
        "test_correct = []\n",
        "\n",
        "for i in range(epochs):\n",
        "    trn_crr = 0\n",
        "    tst_crr = 0\n",
        "\n",
        "    for batch, (x_train, y_train) in enumerate(train_loader):\n",
        "        batch+=1\n",
        "        \n",
        "        y_pred = model(x_train.view(100, -1))\n",
        "        loss = criterion(y_pred, y_train)\n",
        "        \n",
        "        # last layer have 10 neuron like [0.1, 0.0...., 0.8]\n",
        "        # selecting max in that\n",
        "        predicted = torch.max(y_pred.data, 1)[1]\n",
        "        batch_crr = (predicted == y_train).sum()\n",
        "        trn_crr +=batch_crr\n",
        "\n",
        "        optimizer.zero_grad()\n",
        "        loss.backward()\n",
        "        optimizer.step()\n",
        "\n",
        "        if batch%200 == 0:\n",
        "            acuuracy = trn_crr.item()*100/(100*batch)\n",
        "            print(f'Epochs {i}, batch {batch} loss:\\t{loss.item()}\\t accuracy:\\t{acuuracy}')\n",
        "    \n",
        "    train_loss.append(loss)\n",
        "    train_correct.append(trn_crr)\n",
        "\n",
        "    # test validation\n",
        "    with torch.no_grad():\n",
        "        for batch, (x_test, y_test) in enumerate(test_loader):\n",
        "            \n",
        "            # given test loader batch size 500\n",
        "            y_val = model(x_test.view(500, -1))\n",
        "            pred = torch.max(y_val.data, 1)[1]\n",
        "            tst_crr += (pred == y_test).sum()\n",
        "\n",
        "    loss = criterion(y_val, y_test)\n",
        "    test_loss.append(loss)\n",
        "    test_correct.append(tst_crr)\n",
        "\n",
        "total_time = start_time - time.time()\n",
        "print(f'duration {total_time/60}')"
      ],
      "execution_count": 374,
      "outputs": [
        {
          "output_type": "stream",
          "text": [
            "Epochs 0, batch 200 loss:\t0.3094659149646759\t accuracy:\t83.585\n",
            "Epochs 0, batch 400 loss:\t0.16791896522045135\t accuracy:\t87.945\n",
            "Epochs 0, batch 600 loss:\t0.14138494431972504\t accuracy:\t89.78833333333333\n",
            "Epochs 1, batch 200 loss:\t0.22795958817005157\t accuracy:\t94.96\n",
            "Epochs 1, batch 400 loss:\t0.251648873090744\t accuracy:\t95.1825\n",
            "Epochs 1, batch 600 loss:\t0.13384343683719635\t accuracy:\t95.41833333333334\n",
            "Epochs 2, batch 200 loss:\t0.15869437158107758\t accuracy:\t96.6\n",
            "Epochs 2, batch 400 loss:\t0.07899345457553864\t accuracy:\t96.665\n",
            "Epochs 2, batch 600 loss:\t0.07815248519182205\t accuracy:\t96.73833333333333\n",
            "Epochs 3, batch 200 loss:\t0.15073566138744354\t accuracy:\t97.385\n",
            "Epochs 3, batch 400 loss:\t0.1978723406791687\t accuracy:\t97.3875\n",
            "Epochs 3, batch 600 loss:\t0.02058776468038559\t accuracy:\t97.44166666666666\n",
            "Epochs 4, batch 200 loss:\t0.0752447322010994\t accuracy:\t98.17\n",
            "Epochs 4, batch 400 loss:\t0.04172087088227272\t accuracy:\t98.0675\n",
            "Epochs 4, batch 600 loss:\t0.057196617126464844\t accuracy:\t97.99333333333334\n",
            "Epochs 5, batch 200 loss:\t0.04443230479955673\t accuracy:\t98.575\n",
            "Epochs 5, batch 400 loss:\t0.06471309810876846\t accuracy:\t98.4275\n",
            "Epochs 5, batch 600 loss:\t0.09354589134454727\t accuracy:\t98.40166666666667\n",
            "Epochs 6, batch 200 loss:\t0.06508484482765198\t accuracy:\t98.905\n",
            "Epochs 6, batch 400 loss:\t0.025075962767004967\t accuracy:\t98.765\n",
            "Epochs 6, batch 600 loss:\t0.008123625069856644\t accuracy:\t98.72833333333334\n",
            "Epochs 7, batch 200 loss:\t0.0267280675470829\t accuracy:\t98.965\n",
            "Epochs 7, batch 400 loss:\t0.07298342138528824\t accuracy:\t98.955\n",
            "Epochs 7, batch 600 loss:\t0.07099287211894989\t accuracy:\t98.90666666666667\n",
            "Epochs 8, batch 200 loss:\t0.032412584871053696\t accuracy:\t99.13\n",
            "Epochs 8, batch 400 loss:\t0.004440575838088989\t accuracy:\t99.105\n",
            "Epochs 8, batch 600 loss:\t0.03328682482242584\t accuracy:\t99.07166666666667\n",
            "Epochs 9, batch 200 loss:\t0.02947475202381611\t accuracy:\t99.435\n",
            "Epochs 9, batch 400 loss:\t0.016991103067994118\t accuracy:\t99.31\n",
            "Epochs 9, batch 600 loss:\t0.007916521281003952\t accuracy:\t99.24166666666666\n",
            "duration -1.1155417482058207\n"
          ],
          "name": "stdout"
        }
      ]
    },
    {
      "cell_type": "markdown",
      "metadata": {
        "id": "yH3dFu1rHP4e"
      },
      "source": [
        "**Evaluation**"
      ]
    },
    {
      "cell_type": "code",
      "metadata": {
        "colab": {
          "base_uri": "https://localhost:8080/",
          "height": 609
        },
        "id": "h6x8IK4WA6PX",
        "outputId": "44ba5966-a113-4119-e768-4b19c95cd639"
      },
      "source": [
        "plt.figure(figsize=(16,10))\n",
        "plt.plot(train_loss, label=\"Traning Loss\")\n",
        "plt.plot(test_loss, label=\"Test/validation Loss\")\n",
        "plt.legend()"
      ],
      "execution_count": 375,
      "outputs": [
        {
          "output_type": "execute_result",
          "data": {
            "text/plain": [
              "<matplotlib.legend.Legend at 0x7f51250b9cf8>"
            ]
          },
          "metadata": {
            "tags": []
          },
          "execution_count": 375
        },
        {
          "output_type": "display_data",
          "data": {
            "image/png": "[encoded data removed]",
            "text/plain": [
              "<Figure size 1152x720 with 1 Axes>"
            ]
          },
          "metadata": {
            "tags": [],
            "needs_background": "light"
          }
        }
      ]
    },
    {
      "cell_type": "code",
      "metadata": {
        "colab": {
          "base_uri": "https://localhost:8080/"
        },
        "id": "5Mfg3CwSCh5C",
        "outputId": "136c086b-9a71-4d0c-d766-266df3244093"
      },
      "source": [
        "train_correct"
      ],
      "execution_count": 376,
      "outputs": [
        {
          "output_type": "execute_result",
          "data": {
            "text/plain": [
              "[tensor(53873),\n",
              " tensor(57251),\n",
              " tensor(58043),\n",
              " tensor(58465),\n",
              " tensor(58796),\n",
              " tensor(59041),\n",
              " tensor(59237),\n",
              " tensor(59344),\n",
              " tensor(59443),\n",
              " tensor(59545)]"
            ]
          },
          "metadata": {
            "tags": []
          },
          "execution_count": 376
        }
      ]
    },
    {
      "cell_type": "code",
      "metadata": {
        "id": "iMe5lhhgA8Jo"
      },
      "source": [
        "trn_acr = [t/600 for t in train_correct]"
      ],
      "execution_count": 377,
      "outputs": []
    },
    {
      "cell_type": "code",
      "metadata": {
        "colab": {
          "base_uri": "https://localhost:8080/"
        },
        "id": "TeT38IVVB_RU",
        "outputId": "3aa17181-8281-4595-df59-770481afe54e"
      },
      "source": [
        "trn_acr"
      ],
      "execution_count": 378,
      "outputs": [
        {
          "output_type": "execute_result",
          "data": {
            "text/plain": [
              "[tensor(89.7883),\n",
              " tensor(95.4183),\n",
              " tensor(96.7383),\n",
              " tensor(97.4417),\n",
              " tensor(97.9933),\n",
              " tensor(98.4017),\n",
              " tensor(98.7283),\n",
              " tensor(98.9067),\n",
              " tensor(99.0717),\n",
              " tensor(99.2417)]"
            ]
          },
          "metadata": {
            "tags": []
          },
          "execution_count": 378
        }
      ]
    },
    {
      "cell_type": "code",
      "metadata": {
        "id": "k8o-GxR7CxyG"
      },
      "source": [
        "tsr_acr = [t/100 for t in test_correct]"
      ],
      "execution_count": 379,
      "outputs": []
    },
    {
      "cell_type": "code",
      "metadata": {
        "colab": {
          "base_uri": "https://localhost:8080/"
        },
        "id": "fbAJJ3rYDCZb",
        "outputId": "504171bd-3966-4174-e2cf-571ee1403d89"
      },
      "source": [
        "tsr_acr"
      ],
      "execution_count": 380,
      "outputs": [
        {
          "output_type": "execute_result",
          "data": {
            "text/plain": [
              "[tensor(94.8200),\n",
              " tensor(96.0400),\n",
              " tensor(96.5000),\n",
              " tensor(96.9000),\n",
              " tensor(97.2400),\n",
              " tensor(97.5500),\n",
              " tensor(97.1500),\n",
              " tensor(97.7700),\n",
              " tensor(97.6300),\n",
              " tensor(97.4900)]"
            ]
          },
          "metadata": {
            "tags": []
          },
          "execution_count": 380
        }
      ]
    },
    {
      "cell_type": "code",
      "metadata": {
        "colab": {
          "base_uri": "https://localhost:8080/",
          "height": 609
        },
        "id": "RUM65MASDEoL",
        "outputId": "ef02fd1e-9988-4ac2-a499-ceee330bdf8e"
      },
      "source": [
        "plt.figure(figsize=(16,10))\n",
        "plt.plot(trn_acr, label=\"Train Accuracy\")\n",
        "plt.plot(tsr_acr, label=\"Test Accuracy\")\n",
        "plt.legend()"
      ],
      "execution_count": 381,
      "outputs": [
        {
          "output_type": "execute_result",
          "data": {
            "text/plain": [
              "<matplotlib.legend.Legend at 0x7f5124fe1e80>"
            ]
          },
          "metadata": {
            "tags": []
          },
          "execution_count": 381
        },
        {
          "output_type": "display_data",
          "data": {
            "image/png": "[encoded data removed]",
            "text/plain": [
              "<Figure size 1152x720 with 1 Axes>"
            ]
          },
          "metadata": {
            "tags": [],
            "needs_background": "light"
          }
        }
      ]
    },
    {
      "cell_type": "markdown",
      "metadata": {
        "id": "o3wkH_KYHUrM"
      },
      "source": [
        "**New unseen Data**"
      ]
    },
    {
      "cell_type": "code",
      "metadata": {
        "id": "AOx5QgqfDgJ4"
      },
      "source": [
        "test_load_all = DataLoader(test_data,batch_size=10000, shuffle=False)"
      ],
      "execution_count": 383,
      "outputs": []
    },
    {
      "cell_type": "code",
      "metadata": {
        "colab": {
          "base_uri": "https://localhost:8080/"
        },
        "id": "QwKyAiFfHa02",
        "outputId": "aaf7c512-5f86-48e9-82e9-a0fca66ab3b6"
      },
      "source": [
        "with torch.no_grad():\n",
        "    correct = 0\n",
        "\n",
        "    for x_test, y_test in test_load_all:\n",
        "        y_val = model(x_test.view(len(x_test), -1))\n",
        "        pred = torch.max(y_val, 1)[1]\n",
        "        correct += (pred == y_test).sum()\n",
        "print(f'Accuracy \\t:{100*correct.item()/len(test_data)}')"
      ],
      "execution_count": 385,
      "outputs": [
        {
          "output_type": "stream",
          "text": [
            "Accuracy \t:97.49\n"
          ],
          "name": "stdout"
        }
      ]
    },
    {
      "cell_type": "markdown",
      "metadata": {
        "id": "tlqQr3RRIO8s"
      },
      "source": [
        "**Confuesion Metrics**"
      ]
    },
    {
      "cell_type": "code",
      "metadata": {
        "colab": {
          "base_uri": "https://localhost:8080/"
        },
        "id": "-aw8UTSvIgk1",
        "outputId": "029a0cb5-2904-4127-a9e9-3cb2c0cdc4d8"
      },
      "source": [
        "confusion_matrix(pred.view(-1), y_test.view(-1))"
      ],
      "execution_count": 387,
      "outputs": [
        {
          "output_type": "execute_result",
          "data": {
            "text/plain": [
              "array([[ 971,    0,    6,    0,    1,    3,    7,    0,   11,    1],\n",
              "       [   0, 1127,    0,    0,    0,    0,    3,    8,    0,    2],\n",
              "       [   0,    3, 1019,   11,    2,    0,    2,   17,   12,    0],\n",
              "       [   2,    1,    2,  979,    0,   16,    1,    0,    6,    1],\n",
              "       [   2,    0,    2,    0,  962,    3,    6,    3,    5,   10],\n",
              "       [   0,    1,    0,    4,    0,  860,    5,    0,    5,    1],\n",
              "       [   1,    2,    0,    0,    5,    2,  930,    0,    1,    0],\n",
              "       [   0,    0,    1,    4,    1,    1,    0,  987,    4,    1],\n",
              "       [   2,    1,    1,    1,    0,    1,    3,    2,  922,    1],\n",
              "       [   2,    0,    1,   11,   11,    6,    1,   11,    8,  992]])"
            ]
          },
          "metadata": {
            "tags": []
          },
          "execution_count": 387
        }
      ]
    },
    {
      "cell_type": "markdown",
      "metadata": {
        "id": "QntcIh7WIxf9"
      },
      "source": [
        "**Examine The Misses**"
      ]
    },
    {
      "cell_type": "code",
      "metadata": {
        "colab": {
          "base_uri": "https://localhost:8080/"
        },
        "id": "Gvnx5PeBJKxw",
        "outputId": "978413d6-920f-46f6-e500-9ccf3e35ccbc"
      },
      "source": [
        "misses = np.array([])\n",
        "for i in range(len(pred.view(-1))):\n",
        "    if pred[i] != y_test[i]:\n",
        "        misses = np.append(misses, i).astype(int)\n",
        "print('misses\\n', misses)"
      ],
      "execution_count": 391,
      "outputs": [
        {
          "output_type": "stream",
          "text": [
            "misses\n",
            " [  61  115  149  247  259  290  321  340  381  391  445  495  578  582\n",
            "  691  844  846  900  938  947  951  965 1014 1039 1112 1128 1156 1181\n",
            " 1182 1226 1232 1242 1247 1260 1272 1299 1319 1328 1393 1444 1466 1496\n",
            " 1500 1522 1530 1531 1549 1587 1626 1670 1681 1717 1754 1782 1800 1813\n",
            " 1850 1878 1901 1903 1941 1981 1984 2004 2016 2024 2040 2053 2063 2070\n",
            " 2098 2105 2109 2118 2130 2135 2182 2195 2224 2272 2293 2298 2387 2408\n",
            " 2422 2462 2488 2526 2597 2607 2618 2654 2720 2730 2758 2810 2877 2896\n",
            " 2921 2927 2930 2939 2953 2970 2995 3073 3115 3117 3130 3173 3251 3289\n",
            " 3364 3405 3422 3451 3503 3520 3549 3558 3559 3567 3662 3702 3727 3751\n",
            " 3780 3808 3811 3818 3838 3853 3871 3902 3906 3941 3951 3954 3968 3976\n",
            " 3985 4027 4065 4075 4078 4093 4117 4154 4199 4306 4355 4359 4382 4425\n",
            " 4433 4437 4497 4536 4551 4571 4578 4601 4639 4671 4724 4731 4751 4761\n",
            " 4807 4814 4823 4860 4880 4890 4956 4966 4990 5138 5331 5457 5586 5600\n",
            " 5620 5634 5642 5654 5676 5734 5749 5936 5937 5955 5972 5973 5981 5982\n",
            " 5985 5997 6009 6011 6023 6045 6053 6059 6421 6555 6576 6577 6597 6625\n",
            " 6651 6662 6755 6783 6817 7259 7821 7823 7849 7886 8062 8094 8183 8243\n",
            " 8246 8277 8311 8325 8413 8456 8520 8522 8527 9009 9015 9019 9024 9505\n",
            " 9587 9634 9679 9729 9742 9745 9768 9770 9782 9792 9839 9904 9940]\n"
          ],
          "name": "stdout"
        }
      ]
    },
    {
      "cell_type": "code",
      "metadata": {
        "colab": {
          "base_uri": "https://localhost:8080/"
        },
        "id": "mXnDAf9HJxpU",
        "outputId": "b25eceeb-2a57-4f3a-c20a-3cc5c7976a34"
      },
      "source": [
        "# set up an iterator to feed bached rows\n",
        "r = 12\n",
        "row = iter(np.array_split(misses, len(misses)//r+1))\n",
        "row"
      ],
      "execution_count": 393,
      "outputs": [
        {
          "output_type": "execute_result",
          "data": {
            "text/plain": [
              "<list_iterator at 0x7f51250151d0>"
            ]
          },
          "metadata": {
            "tags": []
          },
          "execution_count": 393
        }
      ]
    },
    {
      "cell_type": "code",
      "metadata": {
        "colab": {
          "base_uri": "https://localhost:8080/",
          "height": 169
        },
        "id": "_G9hgNfgKeDH",
        "outputId": "63b2f05d-0d2e-4926-9892-d2904351c47c"
      },
      "source": [
        "next_row = next(row)\n",
        "print('index:', next_row)\n",
        "print('label:', y_test.index_select(0, torch.tensor(next_row)).numpy())\n",
        "print('guess:', pred.index_select(0, torch.tensor(next_row)).numpy())\n",
        "\n",
        "\n",
        "images = x_test.index_select(0, torch.tensor(next_row))\n",
        "im = make_grid(images, nrow=r)\n",
        "plt.figure(figsize=(10,4))\n",
        "plt.imshow(np.transpose(im.numpy(), (1,2,0)))"
      ],
      "execution_count": 400,
      "outputs": [
        {
          "output_type": "stream",
          "text": [
            "index: [1941 1981 1984 2004 2016 2024 2040 2053 2063 2070 2098 2105]\n",
            "label: [   7    6    2    8    7    7    5    4    7    7    2    3]\n",
            "guess: [   2    9    0    9    2    9    4    9    2    9    0    9]\n"
          ],
          "name": "stdout"
        },
        {
          "output_type": "execute_result",
          "data": {
            "text/plain": [
              "<matplotlib.image.AxesImage at 0x7f51253414a8>"
            ]
          },
          "metadata": {
            "tags": []
          },
          "execution_count": 400
        },
        {
          "output_type": "display_data",
          "data": {
            "image/png": "[encoded data removed]",
            "text/plain": [
              "<Figure size 720x288 with 1 Axes>"
            ]
          },
          "metadata": {
            "tags": [],
            "needs_background": "light"
          }
        }
      ]
    },
    {
      "cell_type": "code",
      "metadata": {
        "id": "et1H1G6-MeJp"
      },
      "source": [
        ""
      ],
      "execution_count": null,
      "outputs": []
    }
  ]
}