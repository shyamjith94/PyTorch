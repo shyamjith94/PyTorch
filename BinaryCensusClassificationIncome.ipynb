{
  "nbformat": 4,
  "nbformat_minor": 0,
  "metadata": {
    "colab": {
      "name": "BinaryCensusClassificationIncome.ipynb",
      "provenance": [],
      "collapsed_sections": [],
      "mount_file_id": "1WkIWEWcoD9pZw9Fv30Nd7K7wfl7YAhKJ",
      "authorship_tag": "ABX9TyOtAxUgatX4Gd/hVO4kPwid",
      "include_colab_link": true
    },
    "kernelspec": {
      "name": "python3",
      "display_name": "Python 3"
    }
  },
  "cells": [
    {
      "cell_type": "markdown",
      "metadata": {
        "id": "view-in-github",
        "colab_type": "text"
      },
      "source": [
        "<a href=\"https://colab.research.google.com/github/shyamjith94/PyTorch/blob/main/BinaryCensusClassificationIncome.ipynb\" target=\"_parent\"><img src=\"https://colab.research.google.com/assets/colab-badge.svg\" alt=\"Open In Colab\"/></a>"
      ]
    },
    {
      "cell_type": "code",
      "metadata": {
        "id": "NfWmmkF_xx2y"
      },
      "source": [
        "%%capture\n",
        "!pip install torch torchvision"
      ],
      "execution_count": 24,
      "outputs": []
    },
    {
      "cell_type": "code",
      "metadata": {
        "id": "ys0BJMH7yWdY"
      },
      "source": [
        "\n",
        "import pandas as pd\n",
        "import numpy as np\n",
        "import matplotlib.pyplot as plt\n",
        "\n",
        "import torch, torchvision\n",
        "import torch.nn as NN\n",
        "import torch.functional as F\n",
        "\n",
        "from torch.utils.data import DataLoader, Dataset \n",
        "\n",
        "from sklearn.utils import shuffle\n",
        "\n",
        "from math import radians, cos, sin, asin, sqrt"
      ],
      "execution_count": 25,
      "outputs": []
    },
    {
      "cell_type": "code",
      "metadata": {
        "id": "fi7ok6G4yWPK"
      },
      "source": [
        "data  = pd.read_csv(\"/content/drive/MyDrive/PyTorch/Data/income.csv\")"
      ],
      "execution_count": 26,
      "outputs": []
    },
    {
      "cell_type": "code",
      "metadata": {
        "colab": {
          "base_uri": "https://localhost:8080/",
          "height": 206
        },
        "id": "RyjPSF7Zydd-",
        "outputId": "edbcb7a3-f150-41a0-b3bc-0c039c484b3f"
      },
      "source": [
        "data.head()"
      ],
      "execution_count": 27,
      "outputs": [
        {
          "output_type": "execute_result",
          "data": {
            "text/html": [
              "<div>\n",
              "<style scoped>\n",
              "    .dataframe tbody tr th:only-of-type {\n",
              "        vertical-align: middle;\n",
              "    }\n",
              "\n",
              "    .dataframe tbody tr th {\n",
              "        vertical-align: top;\n",
              "    }\n",
              "\n",
              "    .dataframe thead th {\n",
              "        text-align: right;\n",
              "    }\n",
              "</style>\n",
              "<table border=\"1\" class=\"dataframe\">\n",
              "  <thead>\n",
              "    <tr style=\"text-align: right;\">\n",
              "      <th></th>\n",
              "      <th>age</th>\n",
              "      <th>sex</th>\n",
              "      <th>education</th>\n",
              "      <th>education-num</th>\n",
              "      <th>marital-status</th>\n",
              "      <th>workclass</th>\n",
              "      <th>occupation</th>\n",
              "      <th>hours-per-week</th>\n",
              "      <th>income</th>\n",
              "      <th>label</th>\n",
              "    </tr>\n",
              "  </thead>\n",
              "  <tbody>\n",
              "    <tr>\n",
              "      <th>0</th>\n",
              "      <td>27</td>\n",
              "      <td>Male</td>\n",
              "      <td>HS-grad</td>\n",
              "      <td>9</td>\n",
              "      <td>Never-married</td>\n",
              "      <td>Private</td>\n",
              "      <td>Craft-repair</td>\n",
              "      <td>40</td>\n",
              "      <td>&lt;=50K</td>\n",
              "      <td>0</td>\n",
              "    </tr>\n",
              "    <tr>\n",
              "      <th>1</th>\n",
              "      <td>47</td>\n",
              "      <td>Male</td>\n",
              "      <td>Masters</td>\n",
              "      <td>14</td>\n",
              "      <td>Married</td>\n",
              "      <td>Local-gov</td>\n",
              "      <td>Exec-managerial</td>\n",
              "      <td>50</td>\n",
              "      <td>&gt;50K</td>\n",
              "      <td>1</td>\n",
              "    </tr>\n",
              "    <tr>\n",
              "      <th>2</th>\n",
              "      <td>59</td>\n",
              "      <td>Male</td>\n",
              "      <td>HS-grad</td>\n",
              "      <td>9</td>\n",
              "      <td>Divorced</td>\n",
              "      <td>Self-emp</td>\n",
              "      <td>Prof-specialty</td>\n",
              "      <td>20</td>\n",
              "      <td>&lt;=50K</td>\n",
              "      <td>0</td>\n",
              "    </tr>\n",
              "    <tr>\n",
              "      <th>3</th>\n",
              "      <td>38</td>\n",
              "      <td>Female</td>\n",
              "      <td>Prof-school</td>\n",
              "      <td>15</td>\n",
              "      <td>Never-married</td>\n",
              "      <td>Federal-gov</td>\n",
              "      <td>Prof-specialty</td>\n",
              "      <td>57</td>\n",
              "      <td>&gt;50K</td>\n",
              "      <td>1</td>\n",
              "    </tr>\n",
              "    <tr>\n",
              "      <th>4</th>\n",
              "      <td>64</td>\n",
              "      <td>Female</td>\n",
              "      <td>11th</td>\n",
              "      <td>7</td>\n",
              "      <td>Widowed</td>\n",
              "      <td>Private</td>\n",
              "      <td>Farming-fishing</td>\n",
              "      <td>40</td>\n",
              "      <td>&lt;=50K</td>\n",
              "      <td>0</td>\n",
              "    </tr>\n",
              "  </tbody>\n",
              "</table>\n",
              "</div>"
            ],
            "text/plain": [
              "   age     sex    education  ...  hours-per-week income label\n",
              "0   27    Male      HS-grad  ...              40  <=50K     0\n",
              "1   47    Male      Masters  ...              50   >50K     1\n",
              "2   59    Male      HS-grad  ...              20  <=50K     0\n",
              "3   38  Female  Prof-school  ...              57   >50K     1\n",
              "4   64  Female         11th  ...              40  <=50K     0\n",
              "\n",
              "[5 rows x 10 columns]"
            ]
          },
          "metadata": {
            "tags": []
          },
          "execution_count": 27
        }
      ]
    },
    {
      "cell_type": "code",
      "metadata": {
        "colab": {
          "base_uri": "https://localhost:8080/"
        },
        "id": "6O4PMQ0myeVF",
        "outputId": "8d98f96a-8bc8-4fa0-e54b-0099af4af953"
      },
      "source": [
        "data.info()"
      ],
      "execution_count": 28,
      "outputs": [
        {
          "output_type": "stream",
          "text": [
            "<class 'pandas.core.frame.DataFrame'>\n",
            "RangeIndex: 30000 entries, 0 to 29999\n",
            "Data columns (total 10 columns):\n",
            " #   Column          Non-Null Count  Dtype \n",
            "---  ------          --------------  ----- \n",
            " 0   age             30000 non-null  int64 \n",
            " 1   sex             30000 non-null  object\n",
            " 2   education       30000 non-null  object\n",
            " 3   education-num   30000 non-null  int64 \n",
            " 4   marital-status  30000 non-null  object\n",
            " 5   workclass       30000 non-null  object\n",
            " 6   occupation      30000 non-null  object\n",
            " 7   hours-per-week  30000 non-null  int64 \n",
            " 8   income          30000 non-null  object\n",
            " 9   label           30000 non-null  int64 \n",
            "dtypes: int64(4), object(6)\n",
            "memory usage: 2.3+ MB\n"
          ],
          "name": "stdout"
        }
      ]
    },
    {
      "cell_type": "code",
      "metadata": {
        "colab": {
          "base_uri": "https://localhost:8080/"
        },
        "id": "uYaGYbwLyhXd",
        "outputId": "c9ddb1df-2b6e-4b51-8463-4ea05a05648d"
      },
      "source": [
        "data.dtypes"
      ],
      "execution_count": 29,
      "outputs": [
        {
          "output_type": "execute_result",
          "data": {
            "text/plain": [
              "age                int64\n",
              "sex               object\n",
              "education         object\n",
              "education-num      int64\n",
              "marital-status    object\n",
              "workclass         object\n",
              "occupation        object\n",
              "hours-per-week     int64\n",
              "income            object\n",
              "label              int64\n",
              "dtype: object"
            ]
          },
          "metadata": {
            "tags": []
          },
          "execution_count": 29
        }
      ]
    },
    {
      "cell_type": "code",
      "metadata": {
        "colab": {
          "base_uri": "https://localhost:8080/"
        },
        "id": "RygTiwM7ylj7",
        "outputId": "904d9736-b219-4aa1-948b-eb09f710df8b"
      },
      "source": [
        "data.columns"
      ],
      "execution_count": 30,
      "outputs": [
        {
          "output_type": "execute_result",
          "data": {
            "text/plain": [
              "Index(['age', 'sex', 'education', 'education-num', 'marital-status',\n",
              "       'workclass', 'occupation', 'hours-per-week', 'income', 'label'],\n",
              "      dtype='object')"
            ]
          },
          "metadata": {
            "tags": []
          },
          "execution_count": 30
        }
      ]
    },
    {
      "cell_type": "code",
      "metadata": {
        "colab": {
          "base_uri": "https://localhost:8080/"
        },
        "id": "fOi_oPfxyvv8",
        "outputId": "8b14f9d8-bf0b-4c39-e51b-e949e0c83200"
      },
      "source": [
        "check_unique = ['sex', 'education', 'education-num', 'marital-status',\n",
        "       'workclass', 'occupation', ]\n",
        "for col in check_unique:\n",
        "    print(col,\"\\n\", data[col].unique())"
      ],
      "execution_count": 31,
      "outputs": [
        {
          "output_type": "stream",
          "text": [
            "sex \n",
            " ['Male' 'Female']\n",
            "education \n",
            " ['HS-grad' 'Masters' 'Prof-school' '11th' '12th' '5th-6th' 'Some-college'\n",
            " 'Bachelors' 'Assoc-acdm' '9th' 'Assoc-voc' '10th' '7th-8th' 'Doctorate']\n",
            "education-num \n",
            " [ 9 14 15  7  8  3 10 13 12  5 11  6  4 16]\n",
            "marital-status \n",
            " ['Never-married' 'Married' 'Divorced' 'Widowed' 'Separated'\n",
            " 'Married-spouse-absent']\n",
            "workclass \n",
            " ['Private' 'Local-gov' 'Self-emp' 'Federal-gov' 'State-gov']\n",
            "occupation \n",
            " ['Craft-repair' 'Exec-managerial' 'Prof-specialty' 'Farming-fishing'\n",
            " 'Handlers-cleaners' 'Machine-op-inspct' 'Adm-clerical' 'Other-service'\n",
            " 'Sales' 'Tech-support' 'Protective-serv' 'Transport-moving']\n"
          ],
          "name": "stdout"
        }
      ]
    },
    {
      "cell_type": "markdown",
      "metadata": {
        "id": "AGcKyTRTzF8h"
      },
      "source": [
        "**Seperate Cont and Cate columns**"
      ]
    },
    {
      "cell_type": "code",
      "metadata": {
        "colab": {
          "base_uri": "https://localhost:8080/"
        },
        "id": "QD8gwgbczUy1",
        "outputId": "f3f4a8dc-4a05-4eb2-fc98-96b2c74d677b"
      },
      "source": [
        "cat_cols = ['sex', 'education', 'marital-status', 'workclass', 'occupation']\n",
        "cont_cols = ['age', 'hours-per-week']\n",
        "y_cols = ['label']\n",
        "\n",
        "\n",
        "print(f'cat_cols length \\t{len(cat_cols)}')\n",
        "print(f'cont_cols length\\t{len(cont_cols)}')\n",
        "print(f'y col length \\t{len(y_cols)}')"
      ],
      "execution_count": 32,
      "outputs": [
        {
          "output_type": "stream",
          "text": [
            "cat_cols length \t5\n",
            "cont_cols length\t2\n",
            "y col length \t1\n"
          ],
          "name": "stdout"
        }
      ]
    },
    {
      "cell_type": "code",
      "metadata": {
        "colab": {
          "base_uri": "https://localhost:8080/"
        },
        "id": "HEcO8dyN3yfi",
        "outputId": "5fdade98-fa29-4bbd-d205-51b51b39fce3"
      },
      "source": [
        "data['label'].value_counts()"
      ],
      "execution_count": 33,
      "outputs": [
        {
          "output_type": "execute_result",
          "data": {
            "text/plain": [
              "0    21700\n",
              "1     8300\n",
              "Name: label, dtype: int64"
            ]
          },
          "metadata": {
            "tags": []
          },
          "execution_count": 33
        }
      ]
    },
    {
      "cell_type": "code",
      "metadata": {
        "colab": {
          "base_uri": "https://localhost:8080/"
        },
        "id": "bql2PyGU32sm",
        "outputId": "5c65e7dc-5307-46a9-d1e7-45cb3f9039c0"
      },
      "source": [
        "for cat in cat_cols:\n",
        "    data[cat] = data[cat].astype('category')\n",
        "data.dtypes"
      ],
      "execution_count": 34,
      "outputs": [
        {
          "output_type": "execute_result",
          "data": {
            "text/plain": [
              "age                  int64\n",
              "sex               category\n",
              "education         category\n",
              "education-num        int64\n",
              "marital-status    category\n",
              "workclass         category\n",
              "occupation        category\n",
              "hours-per-week       int64\n",
              "income              object\n",
              "label                int64\n",
              "dtype: object"
            ]
          },
          "metadata": {
            "tags": []
          },
          "execution_count": 34
        }
      ]
    },
    {
      "cell_type": "markdown",
      "metadata": {
        "id": "dFiP8No45OVd"
      },
      "source": [
        "**ShuffleData**"
      ]
    },
    {
      "cell_type": "code",
      "metadata": {
        "colab": {
          "base_uri": "https://localhost:8080/",
          "height": 206
        },
        "id": "fSgIbkPg5XIw",
        "outputId": "de70e973-0a43-426e-d3b8-0e85e32cd127"
      },
      "source": [
        "data = shuffle(data, random_state=101)\n",
        "data.reset_index(drop=True, inplace=True)\n",
        "data.head()"
      ],
      "execution_count": 35,
      "outputs": [
        {
          "output_type": "execute_result",
          "data": {
            "text/html": [
              "<div>\n",
              "<style scoped>\n",
              "    .dataframe tbody tr th:only-of-type {\n",
              "        vertical-align: middle;\n",
              "    }\n",
              "\n",
              "    .dataframe tbody tr th {\n",
              "        vertical-align: top;\n",
              "    }\n",
              "\n",
              "    .dataframe thead th {\n",
              "        text-align: right;\n",
              "    }\n",
              "</style>\n",
              "<table border=\"1\" class=\"dataframe\">\n",
              "  <thead>\n",
              "    <tr style=\"text-align: right;\">\n",
              "      <th></th>\n",
              "      <th>age</th>\n",
              "      <th>sex</th>\n",
              "      <th>education</th>\n",
              "      <th>education-num</th>\n",
              "      <th>marital-status</th>\n",
              "      <th>workclass</th>\n",
              "      <th>occupation</th>\n",
              "      <th>hours-per-week</th>\n",
              "      <th>income</th>\n",
              "      <th>label</th>\n",
              "    </tr>\n",
              "  </thead>\n",
              "  <tbody>\n",
              "    <tr>\n",
              "      <th>0</th>\n",
              "      <td>23</td>\n",
              "      <td>Female</td>\n",
              "      <td>HS-grad</td>\n",
              "      <td>9</td>\n",
              "      <td>Never-married</td>\n",
              "      <td>Private</td>\n",
              "      <td>Other-service</td>\n",
              "      <td>50</td>\n",
              "      <td>&lt;=50K</td>\n",
              "      <td>0</td>\n",
              "    </tr>\n",
              "    <tr>\n",
              "      <th>1</th>\n",
              "      <td>37</td>\n",
              "      <td>Female</td>\n",
              "      <td>Prof-school</td>\n",
              "      <td>15</td>\n",
              "      <td>Married</td>\n",
              "      <td>State-gov</td>\n",
              "      <td>Prof-specialty</td>\n",
              "      <td>39</td>\n",
              "      <td>&gt;50K</td>\n",
              "      <td>1</td>\n",
              "    </tr>\n",
              "    <tr>\n",
              "      <th>2</th>\n",
              "      <td>34</td>\n",
              "      <td>Male</td>\n",
              "      <td>Some-college</td>\n",
              "      <td>10</td>\n",
              "      <td>Divorced</td>\n",
              "      <td>Private</td>\n",
              "      <td>Adm-clerical</td>\n",
              "      <td>40</td>\n",
              "      <td>&lt;=50K</td>\n",
              "      <td>0</td>\n",
              "    </tr>\n",
              "    <tr>\n",
              "      <th>3</th>\n",
              "      <td>31</td>\n",
              "      <td>Male</td>\n",
              "      <td>HS-grad</td>\n",
              "      <td>9</td>\n",
              "      <td>Married</td>\n",
              "      <td>Private</td>\n",
              "      <td>Craft-repair</td>\n",
              "      <td>40</td>\n",
              "      <td>&gt;50K</td>\n",
              "      <td>1</td>\n",
              "    </tr>\n",
              "    <tr>\n",
              "      <th>4</th>\n",
              "      <td>20</td>\n",
              "      <td>Female</td>\n",
              "      <td>Some-college</td>\n",
              "      <td>10</td>\n",
              "      <td>Never-married</td>\n",
              "      <td>Private</td>\n",
              "      <td>Sales</td>\n",
              "      <td>25</td>\n",
              "      <td>&lt;=50K</td>\n",
              "      <td>0</td>\n",
              "    </tr>\n",
              "  </tbody>\n",
              "</table>\n",
              "</div>"
            ],
            "text/plain": [
              "   age     sex     education  ...  hours-per-week income label\n",
              "0   23  Female       HS-grad  ...              50  <=50K     0\n",
              "1   37  Female   Prof-school  ...              39   >50K     1\n",
              "2   34    Male  Some-college  ...              40  <=50K     0\n",
              "3   31    Male       HS-grad  ...              40   >50K     1\n",
              "4   20  Female  Some-college  ...              25  <=50K     0\n",
              "\n",
              "[5 rows x 10 columns]"
            ]
          },
          "metadata": {
            "tags": []
          },
          "execution_count": 35
        }
      ]
    },
    {
      "cell_type": "markdown",
      "metadata": {
        "id": "TqMERyDi5xV2"
      },
      "source": [
        "**Setting embedding Size**"
      ]
    },
    {
      "cell_type": "code",
      "metadata": {
        "colab": {
          "base_uri": "https://localhost:8080/"
        },
        "id": "7VTXfG-g56jJ",
        "outputId": "d0804514-f433-4b94-c6c6-d1b4cc08a2f6"
      },
      "source": [
        "cat_size = [len(data[col].cat.categories) for col in cat_cols]\n",
        "cat_size"
      ],
      "execution_count": 36,
      "outputs": [
        {
          "output_type": "execute_result",
          "data": {
            "text/plain": [
              "[2, 14, 6, 5, 12]"
            ]
          },
          "metadata": {
            "tags": []
          },
          "execution_count": 36
        }
      ]
    },
    {
      "cell_type": "code",
      "metadata": {
        "colab": {
          "base_uri": "https://localhost:8080/"
        },
        "id": "WPyO6IWR6WOS",
        "outputId": "f5f2f5d3-c8b5-4a11-fec3-8a0dff3e2aa8"
      },
      "source": [
        "emb_size = [(size, min(50, (size+1)//2)) for size in cat_size]\n",
        "emb_size"
      ],
      "execution_count": 37,
      "outputs": [
        {
          "output_type": "execute_result",
          "data": {
            "text/plain": [
              "[(2, 1), (14, 7), (6, 3), (5, 3), (12, 6)]"
            ]
          },
          "metadata": {
            "tags": []
          },
          "execution_count": 37
        }
      ]
    },
    {
      "cell_type": "markdown",
      "metadata": {
        "id": "8LT3lBul65F2"
      },
      "source": [
        "**Create Array of categories values**"
      ]
    },
    {
      "cell_type": "code",
      "metadata": {
        "id": "OyvUF6CM7ew-"
      },
      "source": [
        "sx = data['sex'].cat.codes.values\n",
        "educatn = data['education'].cat.codes.values\n",
        "mr_stat = data['marital-status'].cat.codes.values\n",
        "wrk_clas = data['workclass'].cat.codes.values\n",
        "occupa = data['occupation'].cat.codes.values"
      ],
      "execution_count": 38,
      "outputs": []
    },
    {
      "cell_type": "code",
      "metadata": {
        "colab": {
          "base_uri": "https://localhost:8080/"
        },
        "id": "Gcv9Fg3IGBQ4",
        "outputId": "e676c28d-49e6-4650-b589-96487808e717"
      },
      "source": [
        "cats = np.stack([sx,educatn, mr_stat, wrk_clas, occupa], axis=1)\n",
        "cats[:5]"
      ],
      "execution_count": 39,
      "outputs": [
        {
          "output_type": "execute_result",
          "data": {
            "text/plain": [
              "array([[ 0, 10,  3,  2,  6],\n",
              "       [ 0, 12,  1,  4,  7],\n",
              "       [ 1, 13,  0,  2,  0],\n",
              "       [ 1, 10,  1,  2,  1],\n",
              "       [ 0, 13,  3,  2,  9]], dtype=int8)"
            ]
          },
          "metadata": {
            "tags": []
          },
          "execution_count": 39
        }
      ]
    },
    {
      "cell_type": "code",
      "metadata": {
        "id": "knSuJQvHHA2K"
      },
      "source": [
        "cats = torch.tensor(cats, dtype=torch.int64)"
      ],
      "execution_count": 40,
      "outputs": []
    },
    {
      "cell_type": "code",
      "metadata": {
        "colab": {
          "base_uri": "https://localhost:8080/"
        },
        "id": "FnXldVOLHRGh",
        "outputId": "2d6573af-345f-476f-9abd-9359df7f0699"
      },
      "source": [
        "conts = np.stack([data[cont].values for cont in cont_cols], axis=1)\n",
        "conts[:5]"
      ],
      "execution_count": 41,
      "outputs": [
        {
          "output_type": "execute_result",
          "data": {
            "text/plain": [
              "array([[23, 50],\n",
              "       [37, 39],\n",
              "       [34, 40],\n",
              "       [31, 40],\n",
              "       [20, 25]])"
            ]
          },
          "metadata": {
            "tags": []
          },
          "execution_count": 41
        }
      ]
    },
    {
      "cell_type": "code",
      "metadata": {
        "colab": {
          "base_uri": "https://localhost:8080/"
        },
        "id": "GYtsa03SHlNv",
        "outputId": "c0036586-2689-4cf9-864b-68010facf5f6"
      },
      "source": [
        "conts = torch.tensor(conts, dtype=torch.float)\n",
        "conts[:5]"
      ],
      "execution_count": 42,
      "outputs": [
        {
          "output_type": "execute_result",
          "data": {
            "text/plain": [
              "tensor([[23., 50.],\n",
              "        [37., 39.],\n",
              "        [34., 40.],\n",
              "        [31., 40.],\n",
              "        [20., 25.]])"
            ]
          },
          "metadata": {
            "tags": []
          },
          "execution_count": 42
        }
      ]
    },
    {
      "cell_type": "code",
      "metadata": {
        "id": "ulQvuv-lIBHA"
      },
      "source": [
        "y_value = data[y_cols].values"
      ],
      "execution_count": 43,
      "outputs": []
    },
    {
      "cell_type": "code",
      "metadata": {
        "colab": {
          "base_uri": "https://localhost:8080/"
        },
        "id": "byUswhSqIHYZ",
        "outputId": "d01232d3-42ae-4f00-b8fd-243442812bcd"
      },
      "source": [
        "# need flatten this array\n",
        "y_value = torch.tensor(y_value).flatten()\n",
        "y_value[:5]"
      ],
      "execution_count": 44,
      "outputs": [
        {
          "output_type": "execute_result",
          "data": {
            "text/plain": [
              "tensor([0, 1, 0, 1, 0])"
            ]
          },
          "metadata": {
            "tags": []
          },
          "execution_count": 44
        }
      ]
    },
    {
      "cell_type": "markdown",
      "metadata": {
        "id": "JNczUvaFIWh8"
      },
      "source": [
        "**Create Train And Test Sets**"
      ]
    },
    {
      "cell_type": "code",
      "metadata": {
        "id": "9S-0NDEKIlPu"
      },
      "source": [
        "b = 30000\n",
        "t = 5000\n",
        "\n",
        "cat_train = cats[:b-t]\n",
        "cat_test = cats[b-t:b]\n",
        "\n",
        "cont_train = conts[:b-t]\n",
        "cont_test = conts[b-t:b]\n",
        "\n",
        "y_train = y_value[:b-t]\n",
        "y_test  = y_value[b-t:b]"
      ],
      "execution_count": 45,
      "outputs": []
    },
    {
      "cell_type": "code",
      "metadata": {
        "colab": {
          "base_uri": "https://localhost:8080/"
        },
        "id": "m6ziAEJfJxlo",
        "outputId": "a1e0ecdd-9530-4e73-a9f0-cf830cd76e5e"
      },
      "source": [
        "print(len(cat_train))\n",
        "print(len(cat_test))\n",
        "print(len(cont_train))\n",
        "print(len(cont_test))\n",
        "print(len(y_train))\n",
        "print(len(y_test))"
      ],
      "execution_count": 46,
      "outputs": [
        {
          "output_type": "stream",
          "text": [
            "25000\n",
            "5000\n",
            "25000\n",
            "5000\n",
            "25000\n",
            "5000\n"
          ],
          "name": "stdout"
        }
      ]
    },
    {
      "cell_type": "markdown",
      "metadata": {
        "id": "1aYjaWPuhzkZ"
      },
      "source": [
        "**Model Creation And Training**"
      ]
    },
    {
      "cell_type": "code",
      "metadata": {
        "id": "sM1eLwiV18I0"
      },
      "source": [
        "class TablarModel(NN.Module):\n",
        "\n",
        "    def __init__(self, emb_szs, n_cont, out_sz, layers, p=0.5):\n",
        "        super().__init__()\n",
        "\n",
        "        self.embeds = NN.ModuleList([NN.Embedding(ni, nf) for ni, nf in emb_szs])\n",
        "        self.dropout = NN.Dropout(p)\n",
        "        self.bn_cont = NN.BatchNorm1d(n_cont)\n",
        "\n",
        "        layerlist = []\n",
        "        n_emb = sum((nf for ni, nf in emb_szs))\n",
        "        n_in = n_emb + n_cont\n",
        "\n",
        "        for i in layers:\n",
        "            layerlist.append(NN.Linear(n_in, i))\n",
        "            layerlist.append(NN.ReLU(inplace=True))\n",
        "            layerlist.append(NN.BatchNorm1d(i))\n",
        "            layerlist.append(NN.Dropout(p))\n",
        "            n_in = i\n",
        "        layerlist.append(NN.Linear(layers[-1], out_sz))\n",
        "\n",
        "        self.layers =  NN.Sequential(*layerlist)\n",
        "\n",
        "        def forward(self, x_cat, x_cont):\n",
        "            embedding = []\n",
        "            for i,e in enumerate(self.embeds):\n",
        "                embedding.append(e(x_cat[:,i]))\n",
        "            \n",
        "            x = torch.cat(embedding, 1)\n",
        "            x = self.dropout(x)\n",
        "\n",
        "            x_cont = self.bn_cont(x_cont)\n",
        "            x = torch.cat([x, x_cont], 1)\n",
        "            x = self.layers(x)\n",
        "            return x"
      ],
      "execution_count": 78,
      "outputs": []
    },
    {
      "cell_type": "code",
      "metadata": {
        "colab": {
          "base_uri": "https://localhost:8080/"
        },
        "id": "ycJ-afRoPn2o",
        "outputId": "4f48491e-e922-4cd5-c6b1-89be090a5a9f"
      },
      "source": [
        "torch.manual_seed(33)"
      ],
      "execution_count": 79,
      "outputs": [
        {
          "output_type": "execute_result",
          "data": {
            "text/plain": [
              "<torch._C.Generator at 0x7f58ca44bba0>"
            ]
          },
          "metadata": {
            "tags": []
          },
          "execution_count": 79
        }
      ]
    },
    {
      "cell_type": "code",
      "metadata": {
        "colab": {
          "base_uri": "https://localhost:8080/"
        },
        "id": "k16ILnZ1QI6F",
        "outputId": "360684b6-c906-4ad0-b339-02cbf68bfe1e"
      },
      "source": [
        "conts.shape[1]"
      ],
      "execution_count": 80,
      "outputs": [
        {
          "output_type": "execute_result",
          "data": {
            "text/plain": [
              "2"
            ]
          },
          "metadata": {
            "tags": []
          },
          "execution_count": 80
        }
      ]
    },
    {
      "cell_type": "code",
      "metadata": {
        "id": "f50Tv2bgPrAA"
      },
      "source": [
        "model = TabularModel(emb_size, conts.shape[1], 2, [50], p=0.4)"
      ],
      "execution_count": 81,
      "outputs": []
    },
    {
      "cell_type": "code",
      "metadata": {
        "colab": {
          "base_uri": "https://localhost:8080/"
        },
        "id": "O9LWQ-e_QU01",
        "outputId": "4e1c05aa-6d5a-48f3-9d64-959c83908853"
      },
      "source": [
        "model"
      ],
      "execution_count": 82,
      "outputs": [
        {
          "output_type": "execute_result",
          "data": {
            "text/plain": [
              "TabularModel(\n",
              "  (embeds): ModuleList(\n",
              "    (0): Embedding(2, 1)\n",
              "    (1): Embedding(14, 7)\n",
              "    (2): Embedding(6, 3)\n",
              "    (3): Embedding(5, 3)\n",
              "    (4): Embedding(12, 6)\n",
              "  )\n",
              "  (emb_drop): Dropout(p=0.4, inplace=False)\n",
              "  (bn_cont): BatchNorm1d(2, eps=1e-05, momentum=0.1, affine=True, track_running_stats=True)\n",
              "  (layers): Sequential(\n",
              "    (0): Linear(in_features=22, out_features=50, bias=True)\n",
              "    (1): ReLU(inplace=True)\n",
              "    (2): BatchNorm1d(50, eps=1e-05, momentum=0.1, affine=True, track_running_stats=True)\n",
              "    (3): Dropout(p=0.4, inplace=False)\n",
              "    (4): Linear(in_features=50, out_features=2, bias=True)\n",
              "  )\n",
              ")"
            ]
          },
          "metadata": {
            "tags": []
          },
          "execution_count": 82
        }
      ]
    },
    {
      "cell_type": "code",
      "metadata": {
        "id": "EmxTSw-xQVpg"
      },
      "source": [
        "criterion =  NN.CrossEntropyLoss() # classification\n",
        "optimizer = torch.optim.Adam(model.parameters(), 0.001)\n"
      ],
      "execution_count": 83,
      "outputs": []
    },
    {
      "cell_type": "code",
      "metadata": {
        "colab": {
          "base_uri": "https://localhost:8080/"
        },
        "id": "cTFXVZ-nQ1iM",
        "outputId": "975f0ff9-8fe7-476a-e1b1-fa480bc4a1af"
      },
      "source": [
        "import time\n",
        "\n",
        "start_time = time.time()\n",
        "\n",
        "epochs = 300\n",
        "losses = []\n",
        "for i in range(epochs):\n",
        "    i+=1\n",
        "    y_pred = model(cat_train, cont_train)\n",
        "    loss = criterion(y_pred, y_train)\n",
        "    losses.append(loss)\n",
        "\n",
        "    if i%25 == 1:\n",
        "        print(f'epochs {i:3} loss {loss.item():10.8f}')\n",
        "    \n",
        "    optimizer.zero_grad()\n",
        "    loss.backward()\n",
        "    optimizer.step()\n",
        "print(f'epochs {i:3} loss {loss.item():10.8f}')\n",
        "print(f'duration {time.time() - start_time:0f} secound')\n"
      ],
      "execution_count": 84,
      "outputs": [
        {
          "output_type": "stream",
          "text": [
            "epochs   1 loss 0.81344724\n",
            "epochs  26 loss 0.59464002\n",
            "epochs  51 loss 0.51533061\n",
            "epochs  76 loss 0.46403298\n",
            "epochs 101 loss 0.42922878\n",
            "epochs 126 loss 0.40061814\n",
            "epochs 151 loss 0.37124804\n",
            "epochs 176 loss 0.35843456\n",
            "epochs 201 loss 0.34799665\n",
            "epochs 226 loss 0.33587816\n",
            "epochs 251 loss 0.33125827\n",
            "epochs 276 loss 0.32283622\n",
            "epochs 300 loss 0.31732056\n",
            "duration 141.471617 secound\n"
          ],
          "name": "stdout"
        }
      ]
    },
    {
      "cell_type": "code",
      "metadata": {
        "colab": {
          "base_uri": "https://localhost:8080/",
          "height": 623
        },
        "id": "YYgSVeojR_F4",
        "outputId": "97ebd209-5f52-47fe-803d-43b5267df235"
      },
      "source": [
        "plt.figure(figsize=(16,10))\n",
        "plt.plot(range(epochs), losses)\n",
        "plt.xlabel(\"Epochs\")\n",
        "plt.ylabel(\"Losses\")"
      ],
      "execution_count": 85,
      "outputs": [
        {
          "output_type": "execute_result",
          "data": {
            "text/plain": [
              "Text(0, 0.5, 'Losses')"
            ]
          },
          "metadata": {
            "tags": []
          },
          "execution_count": 85
        },
        {
          "output_type": "display_data",
          "data": {
            "image/png": "[encoded data removed]",
            "text/plain": [
              "<Figure size 1152x720 with 1 Axes>"
            ]
          },
          "metadata": {
            "tags": [],
            "needs_background": "light"
          }
        }
      ]
    },
    {
      "cell_type": "markdown",
      "metadata": {
        "id": "Ajyi-W01a14j"
      },
      "source": [
        "**Evaluation**"
      ]
    },
    {
      "cell_type": "code",
      "metadata": {
        "colab": {
          "base_uri": "https://localhost:8080/"
        },
        "id": "f4KHwRB-hxjj",
        "outputId": "8262b325-61bd-42b7-a5ba-102c4610b75f"
      },
      "source": [
        "with torch.no_grad():\n",
        "    y_val = model(cat_test, cont_test)\n",
        "    loss = criterion(y_val, y_test)\n",
        "print(loss)"
      ],
      "execution_count": 87,
      "outputs": [
        {
          "output_type": "stream",
          "text": [
            "tensor(0.3353)\n"
          ],
          "name": "stdout"
        }
      ]
    },
    {
      "cell_type": "code",
      "metadata": {
        "colab": {
          "base_uri": "https://localhost:8080/"
        },
        "id": "oJ7J9-zGiBBy",
        "outputId": "f11949a8-6d99-428f-91e9-8a8c65f0dbaa"
      },
      "source": [
        "row = len(y_test)\n",
        "correct = 0\n",
        "\n",
        "for i in range(row):\n",
        "    if y_val[i].argmax().item() == y_test[i]:\n",
        "        correct += 1\n",
        "print(100*correct/row, \"% correct we got\")"
      ],
      "execution_count": 90,
      "outputs": [
        {
          "output_type": "stream",
          "text": [
            "84.24 % correct we got\n"
          ],
          "name": "stdout"
        }
      ]
    },
    {
      "cell_type": "code",
      "metadata": {
        "id": "qe2Qv_LSi8oS"
      },
      "source": [
        "def test_data(mdl):\n",
        "    age = float(input(\"person age 18-90 \\t\"))\n",
        "    sex = input(\"person sex(Male/Female)\\t\").capitalize()\n",
        "    edn = int(input(\"education level 3-16\\t\"))\n",
        "    mar = input(\"person merital status\\t\").capitalize()\n",
        "    wrk = input(\"person work class\\t\").capitalize()\n",
        "    occ = input(\"person occupation\\t\").capitalize()\n",
        "    hrs = float(input(\"working hors per/week\\t\"))\n",
        "\n",
        "    # process data\n",
        "    sex_d = {'Female':0 , 'Male':1}\n",
        "    mar_d = {'Never-married':3, 'Married':1, 'Divorced':0, 'Widowed':5, 'Separated':4,\n",
        " '          Married-spouse-absent':2}\n",
        "    wrk_d = {'Federal-gov':0, 'Local-gov':1, 'Private':2, 'Self-emp':3, 'State-gov':4}\n",
        "    occ_d = {'Adm-clerical':0, 'Craft-repair':1, 'Exec-managerial':2, 'Farming-fishing':3, 'Handlers-cleaners':4,\n",
        "            'Machine-op-inspct':5, 'Other-service':6, 'Prof-specialty':7, 'Protective-serv':8, 'Sales':9,\n",
        "            'Tech-support':10, 'Transport-moving':11}\n",
        "    \n",
        "    sex = sex_d[sex]\n",
        "    mar = mar_d[mar]\n",
        "    wrk = wrk_d[wrk]\n",
        "    occ = occ_d[occ]\n",
        "\n",
        "    cats = torch.tensor([sex, edn, mar, wrk, occ], dtype=torch.int64).reshape(1,-1)\n",
        "    conts = torch.tensor([age, hrs], dtype=torch.float).reshape(1,-1)\n",
        "\n",
        "    model.eval() \n",
        "\n",
        "    with torch.no_grad():\n",
        "        z = mdl(cats, conts).argmax().item()\n",
        "    print(f'\\n predicted label is \\t{z}')\n"
      ],
      "execution_count": 109,
      "outputs": []
    },
    {
      "cell_type": "code",
      "metadata": {
        "colab": {
          "base_uri": "https://localhost:8080/"
        },
        "id": "2uapefAI5m74",
        "outputId": "217cf9dc-dbf7-497e-826a-ad1f421e8743"
      },
      "source": [
        "test_data(model)"
      ],
      "execution_count": 110,
      "outputs": [
        {
          "output_type": "stream",
          "text": [
            "person age 18-90 \t35\n",
            "person sex(Male/Female)\tFemale\n",
            "education level 3-16\t4\n",
            "person merital status\tMarried\n",
            "person work class\tPrivate\n",
            "person occupation\tCraft-repair\n",
            "working hors per/week\t50\n",
            "\n",
            " predicted label is \t0\n"
          ],
          "name": "stdout"
        }
      ]
    }
  ]
}