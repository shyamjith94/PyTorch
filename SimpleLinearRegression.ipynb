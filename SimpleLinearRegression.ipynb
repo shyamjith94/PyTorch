{
  "nbformat": 4,
  "nbformat_minor": 0,
  "metadata": {
    "colab": {
      "name": "SimpleLinearRegression.ipynb",
      "provenance": [],
      "authorship_tag": "ABX9TyO+WoagzJWz7BbqyoIe+lM8",
      "include_colab_link": true
    },
    "kernelspec": {
      "name": "python3",
      "display_name": "Python 3"
    }
  },
  "cells": [
    {
      "cell_type": "markdown",
      "metadata": {
        "id": "view-in-github",
        "colab_type": "text"
      },
      "source": [
        "<a href=\"https://colab.research.google.com/github/shyamjith94/PyTorch/blob/main/SimpleLinearRegression.ipynb\" target=\"_parent\"><img src=\"https://colab.research.google.com/assets/colab-badge.svg\" alt=\"Open In Colab\"/></a>"
      ]
    },
    {
      "cell_type": "code",
      "metadata": {
        "id": "GZcr_bh1ovVq"
      },
      "source": [
        "%%capture\n",
        "!pip install torch torchvision"
      ],
      "execution_count": 95,
      "outputs": []
    },
    {
      "cell_type": "code",
      "metadata": {
        "id": "pEYFAyRjozXI"
      },
      "source": [
        "import torch, torchvision\n",
        "import numpy as np\n",
        "import matplotlib.pyplot as plt\n",
        "\n",
        "import torch.nn as nn"
      ],
      "execution_count": 96,
      "outputs": []
    },
    {
      "cell_type": "code",
      "metadata": {
        "colab": {
          "base_uri": "https://localhost:8080/"
        },
        "id": "5EBapsEao4cl",
        "outputId": "c2a03c21-5a55-4c7c-941f-f8e80288dcac"
      },
      "source": [
        "x = torch.linspace(1, 50, 50)\n",
        "x"
      ],
      "execution_count": 113,
      "outputs": [
        {
          "output_type": "execute_result",
          "data": {
            "text/plain": [
              "tensor([ 1.,  2.,  3.,  4.,  5.,  6.,  7.,  8.,  9., 10., 11., 12., 13., 14.,\n",
              "        15., 16., 17., 18., 19., 20., 21., 22., 23., 24., 25., 26., 27., 28.,\n",
              "        29., 30., 31., 32., 33., 34., 35., 36., 37., 38., 39., 40., 41., 42.,\n",
              "        43., 44., 45., 46., 47., 48., 49., 50.])"
            ]
          },
          "metadata": {
            "tags": []
          },
          "execution_count": 113
        }
      ]
    },
    {
      "cell_type": "code",
      "metadata": {
        "colab": {
          "base_uri": "https://localhost:8080/"
        },
        "id": "IHoUEmllpFVG",
        "outputId": "2d388301-1569-4978-81e4-d982432deaf3"
      },
      "source": [
        "x = x.reshape(-1, 1)\n",
        "print(x[:10])"
      ],
      "execution_count": 98,
      "outputs": [
        {
          "output_type": "stream",
          "text": [
            "tensor([[ 1.],\n",
            "        [ 2.],\n",
            "        [ 3.],\n",
            "        [ 4.],\n",
            "        [ 5.],\n",
            "        [ 6.],\n",
            "        [ 7.],\n",
            "        [ 8.],\n",
            "        [ 9.],\n",
            "        [10.]])\n"
          ],
          "name": "stdout"
        }
      ]
    },
    {
      "cell_type": "code",
      "metadata": {
        "colab": {
          "base_uri": "https://localhost:8080/"
        },
        "id": "QU8otw79pJug",
        "outputId": "6533de72-a41d-439d-fd37-190f80c15bef"
      },
      "source": [
        "torch.manual_seed(71)\n",
        "error = torch.randint(-8, 9, (50,1), dtype=torch.float)\n",
        "print(error[:10])"
      ],
      "execution_count": 99,
      "outputs": [
        {
          "output_type": "stream",
          "text": [
            "tensor([[ 2.],\n",
            "        [ 7.],\n",
            "        [ 2.],\n",
            "        [ 6.],\n",
            "        [ 2.],\n",
            "        [-4.],\n",
            "        [ 2.],\n",
            "        [-5.],\n",
            "        [ 4.],\n",
            "        [ 1.]])\n"
          ],
          "name": "stdout"
        }
      ]
    },
    {
      "cell_type": "code",
      "metadata": {
        "colab": {
          "base_uri": "https://localhost:8080/"
        },
        "id": "kVh2EsveplhQ",
        "outputId": "d20fee22-4c71-415f-f106-5740439f9220"
      },
      "source": [
        "# y = mx+b\n",
        "# 2 - slope\n",
        "# 1 - intercept\n",
        "y = 2*x+1+error\n",
        "print(y[:10])"
      ],
      "execution_count": 100,
      "outputs": [
        {
          "output_type": "stream",
          "text": [
            "tensor([[ 5.],\n",
            "        [12.],\n",
            "        [ 9.],\n",
            "        [15.],\n",
            "        [13.],\n",
            "        [ 9.],\n",
            "        [17.],\n",
            "        [12.],\n",
            "        [23.],\n",
            "        [22.]])\n"
          ],
          "name": "stdout"
        }
      ]
    },
    {
      "cell_type": "code",
      "metadata": {
        "colab": {
          "base_uri": "https://localhost:8080/"
        },
        "id": "OmogyNFkqFcB",
        "outputId": "f5579818-d13e-4a87-9796-72876fffc584"
      },
      "source": [
        "y.shape"
      ],
      "execution_count": 101,
      "outputs": [
        {
          "output_type": "execute_result",
          "data": {
            "text/plain": [
              "torch.Size([50, 1])"
            ]
          },
          "metadata": {
            "tags": []
          },
          "execution_count": 101
        }
      ]
    },
    {
      "cell_type": "code",
      "metadata": {
        "colab": {
          "base_uri": "https://localhost:8080/",
          "height": 282
        },
        "id": "QCqivX-bqHgN",
        "outputId": "7075b988-ac79-4b57-847b-cea0318635ed"
      },
      "source": [
        "plt.scatter(x, y)"
      ],
      "execution_count": 102,
      "outputs": [
        {
          "output_type": "execute_result",
          "data": {
            "text/plain": [
              "<matplotlib.collections.PathCollection at 0x7f982345f668>"
            ]
          },
          "metadata": {
            "tags": []
          },
          "execution_count": 102
        },
        {
          "output_type": "display_data",
          "data": {
            "image/png": "[encoded data removed]",
            "text/plain": [
              "<Figure size 432x288 with 1 Axes>"
            ]
          },
          "metadata": {
            "tags": [],
            "needs_background": "light"
          }
        }
      ]
    },
    {
      "cell_type": "code",
      "metadata": {
        "colab": {
          "base_uri": "https://localhost:8080/"
        },
        "id": "5zaDTmYctOq0",
        "outputId": "87546aae-67b8-4f01-f58b-cc96a6fdf16d"
      },
      "source": [
        "torch.manual_seed(59)\n",
        "model = nn.Linear(in_features=1, out_features=1)\n",
        "print(model.weight)\n",
        "print(model.bias)"
      ],
      "execution_count": 103,
      "outputs": [
        {
          "output_type": "stream",
          "text": [
            "Parameter containing:\n",
            "tensor([[0.1060]], requires_grad=True)\n",
            "Parameter containing:\n",
            "tensor([0.9638], requires_grad=True)\n"
          ],
          "name": "stdout"
        }
      ]
    },
    {
      "cell_type": "markdown",
      "metadata": {
        "id": "SsD2MfX2v7E8"
      },
      "source": [
        "**Model Class**"
      ]
    },
    {
      "cell_type": "code",
      "metadata": {
        "id": "gLCmqNdNvnUR"
      },
      "source": [
        "class Model(nn.Module):\n",
        "    def __init__(self, in_feature, out_feature):\n",
        "        super().__init__()\n",
        "        self.linear = nn.Linear(in_features=in_feature, out_features=out_feature)\n",
        "\n",
        "    def forward(self, x):\n",
        "        y_pred = self.linear(x)\n",
        "        return y_pred"
      ],
      "execution_count": 104,
      "outputs": []
    },
    {
      "cell_type": "code",
      "metadata": {
        "colab": {
          "base_uri": "https://localhost:8080/"
        },
        "id": "7DPLomgLwpUb",
        "outputId": "fd2ae9ab-f6da-4a87-8fbb-9460e98067d3"
      },
      "source": [
        "torch.manual_seed(59)\n",
        "model = Model(1,1)\n",
        "print(model.linear.weight)\n",
        "print(model.linear.bias)"
      ],
      "execution_count": 105,
      "outputs": [
        {
          "output_type": "stream",
          "text": [
            "Parameter containing:\n",
            "tensor([[0.1060]], requires_grad=True)\n",
            "Parameter containing:\n",
            "tensor([0.9638], requires_grad=True)\n"
          ],
          "name": "stdout"
        }
      ]
    },
    {
      "cell_type": "code",
      "metadata": {
        "colab": {
          "base_uri": "https://localhost:8080/"
        },
        "id": "ZaLK9vyvxY0Q",
        "outputId": "ae6e968b-3ba8-4fe1-bf95-0789d5b4a7ca"
      },
      "source": [
        "for name,param in model.named_parameters():\n",
        "    print(name,\"\\t\", param.item())"
      ],
      "execution_count": 106,
      "outputs": [
        {
          "output_type": "stream",
          "text": [
            "linear.weight \t 0.10597813129425049\n",
            "linear.bias \t 0.9637961387634277\n"
          ],
          "name": "stdout"
        }
      ]
    },
    {
      "cell_type": "code",
      "metadata": {
        "colab": {
          "base_uri": "https://localhost:8080/"
        },
        "id": "YMjwKPn2xw-v",
        "outputId": "e22c1b40-abda-471f-d76f-64ce1556f9d9"
      },
      "source": [
        "x_t = torch.tensor([2.0])\n",
        "print(model.forward(x_t))"
      ],
      "execution_count": 121,
      "outputs": [
        {
          "output_type": "stream",
          "text": [
            "tensor([1.1758], grad_fn=<AddBackward0>)\n"
          ],
          "name": "stdout"
        }
      ]
    },
    {
      "cell_type": "code",
      "metadata": {
        "colab": {
          "base_uri": "https://localhost:8080/"
        },
        "id": "_E7AMFNUyAN3",
        "outputId": "b8a69050-8040-4f48-b582-782559525d02"
      },
      "source": [
        "x1 = np.linspace(0.0, 50.0, 50)\n",
        "x1"
      ],
      "execution_count": 108,
      "outputs": [
        {
          "output_type": "execute_result",
          "data": {
            "text/plain": [
              "array([ 0.        ,  1.02040816,  2.04081633,  3.06122449,  4.08163265,\n",
              "        5.10204082,  6.12244898,  7.14285714,  8.16326531,  9.18367347,\n",
              "       10.20408163, 11.2244898 , 12.24489796, 13.26530612, 14.28571429,\n",
              "       15.30612245, 16.32653061, 17.34693878, 18.36734694, 19.3877551 ,\n",
              "       20.40816327, 21.42857143, 22.44897959, 23.46938776, 24.48979592,\n",
              "       25.51020408, 26.53061224, 27.55102041, 28.57142857, 29.59183673,\n",
              "       30.6122449 , 31.63265306, 32.65306122, 33.67346939, 34.69387755,\n",
              "       35.71428571, 36.73469388, 37.75510204, 38.7755102 , 39.79591837,\n",
              "       40.81632653, 41.83673469, 42.85714286, 43.87755102, 44.89795918,\n",
              "       45.91836735, 46.93877551, 47.95918367, 48.97959184, 50.        ])"
            ]
          },
          "metadata": {
            "tags": []
          },
          "execution_count": 108
        }
      ]
    },
    {
      "cell_type": "code",
      "metadata": {
        "colab": {
          "base_uri": "https://localhost:8080/"
        },
        "id": "iF9zj28zyiL5",
        "outputId": "9bc933cc-933e-47fd-bfca-5391821fc1a8"
      },
      "source": [
        "w1 = 0.1059\n",
        "b1 = 0.9637\n",
        "y1 = w1*x1+b1\n",
        "y1"
      ],
      "execution_count": 109,
      "outputs": [
        {
          "output_type": "execute_result",
          "data": {
            "text/plain": [
              "array([0.9637    , 1.07176122, 1.17982245, 1.28788367, 1.3959449 ,\n",
              "       1.50400612, 1.61206735, 1.72012857, 1.8281898 , 1.93625102,\n",
              "       2.04431224, 2.15237347, 2.26043469, 2.36849592, 2.47655714,\n",
              "       2.58461837, 2.69267959, 2.80074082, 2.90880204, 3.01686327,\n",
              "       3.12492449, 3.23298571, 3.34104694, 3.44910816, 3.55716939,\n",
              "       3.66523061, 3.77329184, 3.88135306, 3.98941429, 4.09747551,\n",
              "       4.20553673, 4.31359796, 4.42165918, 4.52972041, 4.63778163,\n",
              "       4.74584286, 4.85390408, 4.96196531, 5.07002653, 5.17808776,\n",
              "       5.28614898, 5.3942102 , 5.50227143, 5.61033265, 5.71839388,\n",
              "       5.8264551 , 5.93451633, 6.04257755, 6.15063878, 6.2587    ])"
            ]
          },
          "metadata": {
            "tags": []
          },
          "execution_count": 109
        }
      ]
    },
    {
      "cell_type": "code",
      "metadata": {
        "colab": {
          "base_uri": "https://localhost:8080/",
          "height": 282
        },
        "id": "AsnfIWLX3cAn",
        "outputId": "df21cc26-10c1-4ab5-ad39-53524d055e79"
      },
      "source": [
        "plt.scatter(x, y)\n",
        "plt.plot(x1,y1, 'r')\n"
      ],
      "execution_count": 122,
      "outputs": [
        {
          "output_type": "execute_result",
          "data": {
            "text/plain": [
              "[<matplotlib.lines.Line2D at 0x7f9823762b38>]"
            ]
          },
          "metadata": {
            "tags": []
          },
          "execution_count": 122
        },
        {
          "output_type": "display_data",
          "data": {
            "image/png": "[encoded data removed]",
            "text/plain": [
              "<Figure size 432x288 with 1 Axes>"
            ]
          },
          "metadata": {
            "tags": [],
            "needs_background": "light"
          }
        }
      ]
    },
    {
      "cell_type": "code",
      "metadata": {
        "id": "dXu63oCF3hiN"
      },
      "source": [
        "criterion = nn.MSELoss()\n"
      ],
      "execution_count": 116,
      "outputs": []
    },
    {
      "cell_type": "code",
      "metadata": {
        "id": "o-g_1UlD4rzw"
      },
      "source": [
        "optimizer = torch.optim.SGD(model.parameters(), lr=0.001)"
      ],
      "execution_count": 117,
      "outputs": []
    },
    {
      "cell_type": "code",
      "metadata": {
        "id": "qgzeuWdC48mJ"
      },
      "source": [
        "epochs = 50"
      ],
      "execution_count": 118,
      "outputs": []
    },
    {
      "cell_type": "code",
      "metadata": {
        "colab": {
          "base_uri": "https://localhost:8080/"
        },
        "id": "PyIVFp6u5QlC",
        "outputId": "db6787e8-8872-4fa5-a9f2-d2f047bcc83f"
      },
      "source": [
        "losses = []\n",
        "\n",
        "for i in range(epochs):\n",
        "    i = i+1\n",
        "    y_pred = model.forward(x.reshape(-1,1))\n",
        "    loss = criterion(y_pred, y)\n",
        "    losses.append(loss)\n",
        "    print(f\"epochs\\t{epochs}, loss \\t{loss.item()}, weight\\t{model.linear.weight.item()}, bias\\t{model.linear.bias.item()}\")\n",
        "    # update hyper prams\n",
        "    optimizer.zero_grad()\n",
        "    loss.backward()\n",
        "    optimizer.step()"
      ],
      "execution_count": 128,
      "outputs": [
        {
          "output_type": "stream",
          "text": [
            "epochs\t50, loss \t172703.453125, weight\t15.933629989624023, bias\t8.877622604370117\n",
            "epochs\t50, loss \t89174.6484375, weight\t-8.417130470275879, bias\t8.151251792907715\n",
            "epochs\t50, loss \t46051.75390625, weight\t9.079411506652832, bias\t8.66822338104248\n",
            "epochs\t50, loss \t23788.9140625, weight\t-3.4919776916503906, bias\t8.291836738586426\n",
            "epochs\t50, loss \t12295.4091796875, weight\t5.540905475616455, bias\t8.557343482971191\n",
            "epochs\t50, loss \t6361.71240234375, weight\t-0.949213981628418, bias\t8.361642837524414\n",
            "epochs\t50, loss \t3298.3525390625, weight\t3.7141826152801514, bias\t8.497329711914062\n",
            "epochs\t50, loss \t1716.8460693359375, weight\t0.3636070191860199, bias\t8.394911766052246\n",
            "epochs\t50, loss \t900.3663940429688, weight\t2.771193265914917, bias\t8.463578224182129\n",
            "epochs\t50, loss \t478.8432922363281, weight\t1.0414518117904663, bias\t8.409319877624512\n",
            "epochs\t50, loss \t261.2218322753906, weight\t2.2844436168670654, bias\t8.443387031555176\n",
            "epochs\t50, loss \t148.8677978515625, weight\t1.3914811611175537, bias\t8.413993835449219\n",
            "epochs\t50, loss \t90.85945129394531, weight\t2.0332343578338623, bias\t8.430200576782227\n",
            "epochs\t50, loss \t60.907859802246094, weight\t1.5722708702087402, bias\t8.413644790649414\n",
            "epochs\t50, loss \t45.441017150878906, weight\t1.9036259651184082, bias\t8.420631408691406\n",
            "epochs\t50, loss \t37.45207977294922, weight\t1.6656880378723145, bias\t8.41070556640625\n",
            "epochs\t50, loss \t33.32374954223633, weight\t1.836795687675476, bias\t8.412934303283691\n",
            "epochs\t50, loss \t31.18851089477539, weight\t1.7139978408813477, bias\t8.406432151794434\n",
            "epochs\t50, loss \t30.082233428955078, weight\t1.8023754358291626, bias\t8.406205177307129\n",
            "epochs\t50, loss \t29.507177352905273, weight\t1.7390203475952148, bias\t8.401472091674805\n",
            "epochs\t50, loss \t29.206382751464844, weight\t1.7846872806549072, bias\t8.399978637695312\n",
            "epochs\t50, loss \t29.04718017578125, weight\t1.7520203590393066, bias\t8.396159172058105\n",
            "epochs\t50, loss \t28.9610652923584, weight\t1.7756373882293701, bias\t8.394013404846191\n",
            "epochs\t50, loss \t28.912696838378906, weight\t1.7588133811950684, bias\t8.390667915344238\n",
            "epochs\t50, loss \t28.883831024169922, weight\t1.7710466384887695, bias\t8.388187408447266\n",
            "epochs\t50, loss \t28.865026473999023, weight\t1.762402057647705, bias\t8.385087966918945\n",
            "epochs\t50, loss \t28.851417541503906, weight\t1.7687582969665527, bias\t8.382434844970703\n",
            "epochs\t50, loss \t28.840499877929688, weight\t1.764336109161377, bias\t8.379463195800781\n",
            "epochs\t50, loss \t28.830970764160156, weight\t1.7676583528518677, bias\t8.376723289489746\n",
            "epochs\t50, loss \t28.822175979614258, weight\t1.7654160261154175, bias\t8.373819351196289\n",
            "epochs\t50, loss \t28.81374740600586, weight\t1.7671719789505005, bias\t8.3710355758667\n",
            "epochs\t50, loss \t28.80551528930664, weight\t1.7660549879074097, bias\t8.368167877197266\n",
            "epochs\t50, loss \t28.797391891479492, weight\t1.767001986503601, bias\t8.365363121032715\n",
            "epochs\t50, loss \t28.789321899414062, weight\t1.7664660215377808, bias\t8.362515449523926\n",
            "epochs\t50, loss \t28.781291961669922, weight\t1.7669955492019653, bias\t8.359700202941895\n",
            "epochs\t50, loss \t28.773283004760742, weight\t1.7667593955993652, bias\t8.356863975524902\n",
            "epochs\t50, loss \t28.765291213989258, weight\t1.767073392868042, bias\t8.354045867919922\n",
            "epochs\t50, loss \t28.757301330566406, weight\t1.7669920921325684, bias\t8.351217269897461\n",
            "epochs\t50, loss \t28.74933624267578, weight\t1.7671945095062256, bias\t8.348398208618164\n",
            "epochs\t50, loss \t28.74136734008789, weight\t1.76719331741333, bias\t8.345574378967285\n",
            "epochs\t50, loss \t28.733407974243164, weight\t1.7673381567001343, bias\t8.342756271362305\n",
            "epochs\t50, loss \t28.7254638671875, weight\t1.7673779726028442, bias\t8.339936256408691\n",
            "epochs\t50, loss \t28.717519760131836, weight\t1.7674932479858398, bias\t8.337120056152344\n",
            "epochs\t50, loss \t28.709585189819336, weight\t1.7675542831420898, bias\t8.334303855895996\n",
            "epochs\t50, loss \t28.70166015625, weight\t1.7676540613174438, bias\t8.331489562988281\n",
            "epochs\t50, loss \t28.693744659423828, weight\t1.7677260637283325, bias\t8.328676223754883\n",
            "epochs\t50, loss \t28.685829162597656, weight\t1.7678179740905762, bias\t8.325864791870117\n",
            "epochs\t50, loss \t28.677928924560547, weight\t1.7678953409194946, bias\t8.323054313659668\n",
            "epochs\t50, loss \t28.670034408569336, weight\t1.767983317375183, bias\t8.320245742797852\n",
            "epochs\t50, loss \t28.662147521972656, weight\t1.7680635452270508, bias\t8.317438125610352\n"
          ],
          "name": "stdout"
        }
      ]
    },
    {
      "cell_type": "code",
      "metadata": {
        "colab": {
          "base_uri": "https://localhost:8080/",
          "height": 296
        },
        "id": "FuoVSwid8FZ7",
        "outputId": "2f5ebf08-f3c9-4192-f026-6e165ff39758"
      },
      "source": [
        "plt.plot(range(epochs), losses)\n",
        "plt.ylabel(\"loss\")\n",
        "plt.xlabel(\"epochs\")"
      ],
      "execution_count": 130,
      "outputs": [
        {
          "output_type": "execute_result",
          "data": {
            "text/plain": [
              "Text(0.5, 0, 'epochs')"
            ]
          },
          "metadata": {
            "tags": []
          },
          "execution_count": 130
        },
        {
          "output_type": "display_data",
          "data": {
            "image/png": "[encoded data removed]",
            "text/plain": [
              "<Figure size 432x288 with 1 Axes>"
            ]
          },
          "metadata": {
            "tags": [],
            "needs_background": "light"
          }
        }
      ]
    },
    {
      "cell_type": "code",
      "metadata": {
        "id": "6Y1ijj7v8dAR"
      },
      "source": [
        "x_p = np.linspace(0.0, 50.0, 50)\n",
        "curr_weight = model.linear.weight.item()\n",
        "curr_bias = model.linear.bias.item()\n",
        "predicted_y = curr_weight*x_p + curr_bias"
      ],
      "execution_count": 131,
      "outputs": []
    },
    {
      "cell_type": "code",
      "metadata": {
        "colab": {
          "base_uri": "https://localhost:8080/",
          "height": 282
        },
        "id": "6hdNCA5m9TWs",
        "outputId": "33effb8c-3418-45cd-903f-29435784c224"
      },
      "source": [
        "plt.scatter(x, y)\n",
        "plt.plot(x, predicted_y, 'r')"
      ],
      "execution_count": 132,
      "outputs": [
        {
          "output_type": "execute_result",
          "data": {
            "text/plain": [
              "[<matplotlib.lines.Line2D at 0x7f9822ac8f60>]"
            ]
          },
          "metadata": {
            "tags": []
          },
          "execution_count": 132
        },
        {
          "output_type": "display_data",
          "data": {
            "image/png": "[encoded data removed]",
            "text/plain": [
              "<Figure size 432x288 with 1 Axes>"
            ]
          },
          "metadata": {
            "tags": [],
            "needs_background": "light"
          }
        }
      ]
    },
    {
      "cell_type": "code",
      "metadata": {
        "id": "yA6z8OFG9bX3"
      },
      "source": [
        ""
      ],
      "execution_count": null,
      "outputs": []
    }
  ]
}